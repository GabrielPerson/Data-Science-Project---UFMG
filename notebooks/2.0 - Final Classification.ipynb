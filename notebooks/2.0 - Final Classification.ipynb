{
 "cells": [
  {
   "cell_type": "markdown",
   "metadata": {},
   "source": [
    "# Classificação\n",
    "\n",
    "Para a tarefa de classificação queremos poder classificar um jogadoe com base em suas estatisticas de carreira, assim podemos ver como cada estatisica é mais discriminante de uma posição em relação à outra.\n",
    "\n",
    "Utilizamos 3 tipos de classificadores. **Dicision Trees**, **Random Forests** e **KNN - K Nearest Neigbhors**."
   ]
  },
  {
   "cell_type": "code",
   "execution_count": 3,
   "metadata": {},
   "outputs": [],
   "source": [
    "import numpy as np\n",
    "import pandas as pd\n",
    "import matplotlib.pyplot as plt\n",
    "import seaborn as sns\n",
    "from scipy import stats as ss\n",
    "%matplotlib inline\n",
    "\n",
    "from sklearn.model_selection import train_test_split\n",
    "from sklearn.tree import DecisionTreeClassifier\n",
    "from sklearn.metrics import classification_report, confusion_matrix"
   ]
  },
  {
   "cell_type": "code",
   "execution_count": 4,
   "metadata": {},
   "outputs": [
    {
     "data": {
      "text/html": [
       "<div>\n",
       "<style scoped>\n",
       "    .dataframe tbody tr th:only-of-type {\n",
       "        vertical-align: middle;\n",
       "    }\n",
       "\n",
       "    .dataframe tbody tr th {\n",
       "        vertical-align: top;\n",
       "    }\n",
       "\n",
       "    .dataframe thead th {\n",
       "        text-align: right;\n",
       "    }\n",
       "</style>\n",
       "<table border=\"1\" class=\"dataframe\">\n",
       "  <thead>\n",
       "    <tr style=\"text-align: right;\">\n",
       "      <th></th>\n",
       "      <th>Player_Id</th>\n",
       "      <th>Year</th>\n",
       "      <th>Rnd</th>\n",
       "      <th>Pick</th>\n",
       "      <th>Tm</th>\n",
       "      <th>Player</th>\n",
       "      <th>Pos</th>\n",
       "      <th>Position Standard</th>\n",
       "      <th>First4AV</th>\n",
       "      <th>Age</th>\n",
       "      <th>...</th>\n",
       "      <th>Rush_Yds</th>\n",
       "      <th>Rush_TDs</th>\n",
       "      <th>Rec</th>\n",
       "      <th>Rec_Yds</th>\n",
       "      <th>Rec_Tds</th>\n",
       "      <th>Tkl</th>\n",
       "      <th>Def_Int</th>\n",
       "      <th>Sk</th>\n",
       "      <th>College/Univ</th>\n",
       "      <th>carrer_years</th>\n",
       "    </tr>\n",
       "  </thead>\n",
       "  <tbody>\n",
       "    <tr>\n",
       "      <th>0</th>\n",
       "      <td>WinsJa00</td>\n",
       "      <td>2015</td>\n",
       "      <td>1.0</td>\n",
       "      <td>1</td>\n",
       "      <td>TAM</td>\n",
       "      <td>Jameis Winston</td>\n",
       "      <td>QB</td>\n",
       "      <td>QB</td>\n",
       "      <td>13</td>\n",
       "      <td>21.0</td>\n",
       "      <td>...</td>\n",
       "      <td>311.0</td>\n",
       "      <td>7.0</td>\n",
       "      <td>0.0</td>\n",
       "      <td>0.0</td>\n",
       "      <td>0.0</td>\n",
       "      <td>0.0</td>\n",
       "      <td>0.0</td>\n",
       "      <td>0.0</td>\n",
       "      <td>Florida St.</td>\n",
       "      <td>2.0</td>\n",
       "    </tr>\n",
       "    <tr>\n",
       "      <th>1</th>\n",
       "      <td>MariMa01</td>\n",
       "      <td>2015</td>\n",
       "      <td>1.0</td>\n",
       "      <td>2</td>\n",
       "      <td>TEN</td>\n",
       "      <td>Marcus Mariota</td>\n",
       "      <td>QB</td>\n",
       "      <td>QB</td>\n",
       "      <td>9</td>\n",
       "      <td>21.0</td>\n",
       "      <td>...</td>\n",
       "      <td>516.0</td>\n",
       "      <td>4.0</td>\n",
       "      <td>1.0</td>\n",
       "      <td>41.0</td>\n",
       "      <td>1.0</td>\n",
       "      <td>0.0</td>\n",
       "      <td>0.0</td>\n",
       "      <td>0.0</td>\n",
       "      <td>Oregon</td>\n",
       "      <td>2.0</td>\n",
       "    </tr>\n",
       "    <tr>\n",
       "      <th>2</th>\n",
       "      <td>FowlDa00</td>\n",
       "      <td>2015</td>\n",
       "      <td>1.0</td>\n",
       "      <td>3</td>\n",
       "      <td>JAX</td>\n",
       "      <td>Dante Fowler</td>\n",
       "      <td>OLB</td>\n",
       "      <td>LB</td>\n",
       "      <td>0</td>\n",
       "      <td>21.0</td>\n",
       "      <td>...</td>\n",
       "      <td>0.0</td>\n",
       "      <td>0.0</td>\n",
       "      <td>0.0</td>\n",
       "      <td>0.0</td>\n",
       "      <td>0.0</td>\n",
       "      <td>16.0</td>\n",
       "      <td>0.0</td>\n",
       "      <td>2.5</td>\n",
       "      <td>Florida</td>\n",
       "      <td>2.0</td>\n",
       "    </tr>\n",
       "    <tr>\n",
       "      <th>3</th>\n",
       "      <td>CoopAm00</td>\n",
       "      <td>2015</td>\n",
       "      <td>1.0</td>\n",
       "      <td>4</td>\n",
       "      <td>OAK</td>\n",
       "      <td>Amari Cooper</td>\n",
       "      <td>WR</td>\n",
       "      <td>WR</td>\n",
       "      <td>9</td>\n",
       "      <td>21.0</td>\n",
       "      <td>...</td>\n",
       "      <td>-3.0</td>\n",
       "      <td>0.0</td>\n",
       "      <td>134.0</td>\n",
       "      <td>1970.0</td>\n",
       "      <td>9.0</td>\n",
       "      <td>0.0</td>\n",
       "      <td>0.0</td>\n",
       "      <td>0.0</td>\n",
       "      <td>Alabama</td>\n",
       "      <td>2.0</td>\n",
       "    </tr>\n",
       "    <tr>\n",
       "      <th>4</th>\n",
       "      <td>ScheBr00</td>\n",
       "      <td>2015</td>\n",
       "      <td>1.0</td>\n",
       "      <td>5</td>\n",
       "      <td>WAS</td>\n",
       "      <td>Brandon Scherff</td>\n",
       "      <td>T</td>\n",
       "      <td>T</td>\n",
       "      <td>7</td>\n",
       "      <td>23.0</td>\n",
       "      <td>...</td>\n",
       "      <td>0.0</td>\n",
       "      <td>0.0</td>\n",
       "      <td>0.0</td>\n",
       "      <td>0.0</td>\n",
       "      <td>0.0</td>\n",
       "      <td>0.0</td>\n",
       "      <td>0.0</td>\n",
       "      <td>0.0</td>\n",
       "      <td>Iowa</td>\n",
       "      <td>2.0</td>\n",
       "    </tr>\n",
       "  </tbody>\n",
       "</table>\n",
       "<p>5 rows × 33 columns</p>\n",
       "</div>"
      ],
      "text/plain": [
       "  Player_Id  Year  Rnd  Pick   Tm           Player  Pos Position Standard  \\\n",
       "0  WinsJa00  2015  1.0     1  TAM   Jameis Winston   QB                QB   \n",
       "1  MariMa01  2015  1.0     2  TEN   Marcus Mariota   QB                QB   \n",
       "2  FowlDa00  2015  1.0     3  JAX     Dante Fowler  OLB                LB   \n",
       "3  CoopAm00  2015  1.0     4  OAK     Amari Cooper   WR                WR   \n",
       "4  ScheBr00  2015  1.0     5  WAS  Brandon Scherff    T                 T   \n",
       "\n",
       "   First4AV   Age      ...       Rush_Yds  Rush_TDs    Rec  Rec_Yds  Rec_Tds  \\\n",
       "0        13  21.0      ...          311.0       7.0    0.0      0.0      0.0   \n",
       "1         9  21.0      ...          516.0       4.0    1.0     41.0      1.0   \n",
       "2         0  21.0      ...            0.0       0.0    0.0      0.0      0.0   \n",
       "3         9  21.0      ...           -3.0       0.0  134.0   1970.0      9.0   \n",
       "4         7  23.0      ...            0.0       0.0    0.0      0.0      0.0   \n",
       "\n",
       "    Tkl  Def_Int   Sk  College/Univ  carrer_years  \n",
       "0   0.0      0.0  0.0   Florida St.           2.0  \n",
       "1   0.0      0.0  0.0        Oregon           2.0  \n",
       "2  16.0      0.0  2.5       Florida           2.0  \n",
       "3   0.0      0.0  0.0       Alabama           2.0  \n",
       "4   0.0      0.0  0.0          Iowa           2.0  \n",
       "\n",
       "[5 rows x 33 columns]"
      ]
     },
     "execution_count": 4,
     "metadata": {},
     "output_type": "execute_result"
    }
   ],
   "source": [
    "# Load da Base no Dataframe Pandas\n",
    "df_draft = pd.read_csv('../data/clean_nfl_draft.csv')\n",
    "df_draft.head()"
   ]
  },
  {
   "cell_type": "markdown",
   "metadata": {},
   "source": [
    "Para a classificação desconsideramos os jogaodores de linha ofensiva - Center (C), Tackle (T), Guard (G) - e  jogadores de Special Teams (times especiais) - Kicker (K), Punter(P), uma vez que estes não possuem estatisticas registradas no dataset."
   ]
  },
  {
   "cell_type": "code",
   "execution_count": 5,
   "metadata": {},
   "outputs": [],
   "source": [
    "#Drop de labels específicas\n",
    "drop_labels = ['C', 'T', 'G', 'K', 'P']\n",
    "for label in drop_labels:\n",
    "    df_draft.drop(df_draft.index[df_draft['Position Standard'] == label], inplace = True)\n",
    "    \n",
    "idx_sk = list(df_draft.columns).index('Sk')\n",
    "idx_cmp = list(df_draft.columns).index('Cmp')\n",
    "\n",
    "labels_class = df_draft.columns[idx_cmp:idx_sk+1]"
   ]
  },
  {
   "cell_type": "markdown",
   "metadata": {},
   "source": [
    "#### Train Test Split\n",
    "\n",
    "Divisão dos dados em treino e teste."
   ]
  },
  {
   "cell_type": "code",
   "execution_count": 6,
   "metadata": {},
   "outputs": [],
   "source": [
    "#Definimos as variáveis X e Y que serão usadas no modelo\n",
    "X = df_draft[labels_class]\n",
    "y = df_draft['Position Standard']\n",
    "\n",
    "#Separamos quanto dos dados será usado para treino e quanto será usado para teste.\n",
    "#Nesse caso, 33% dos dados estarão dedicados à teste\n",
    "X_train, X_test, y_train, y_test = train_test_split(X, y, test_size = 0.33)"
   ]
  },
  {
   "cell_type": "markdown",
   "metadata": {},
   "source": [
    "## Decision Trees"
   ]
  },
  {
   "cell_type": "code",
   "execution_count": 7,
   "metadata": {},
   "outputs": [
    {
     "data": {
      "text/plain": [
       "DecisionTreeClassifier(class_weight=None, criterion='gini', max_depth=None,\n",
       "            max_features=None, max_leaf_nodes=None,\n",
       "            min_impurity_decrease=0.0, min_impurity_split=None,\n",
       "            min_samples_leaf=1, min_samples_split=2,\n",
       "            min_weight_fraction_leaf=0.0, presort=False, random_state=None,\n",
       "            splitter='best')"
      ]
     },
     "execution_count": 7,
     "metadata": {},
     "output_type": "execute_result"
    }
   ],
   "source": [
    "#Utilizamos o modelo de árvore de decisão\n",
    "dtree = DecisionTreeClassifier()\n",
    "\n",
    "#Treinamento do modelo\n",
    "dtree.fit(X_train,y_train)"
   ]
  },
  {
   "cell_type": "markdown",
   "metadata": {},
   "source": [
    "#### Prediction and Evaluation"
   ]
  },
  {
   "cell_type": "code",
   "execution_count": 13,
   "metadata": {},
   "outputs": [
    {
     "name": "stdout",
     "output_type": "stream",
     "text": [
      "Classification Report e matriz de confusão - Decision Trees\n",
      "\n",
      "\n",
      "             precision    recall  f1-score   support\n",
      "\n",
      "         DB       0.67      0.67      0.67       475\n",
      "         DE       0.44      0.34      0.39       209\n",
      "         DT       0.33      0.25      0.28       183\n",
      "         FB       0.24      0.17      0.20        24\n",
      "         LB       0.34      0.51      0.41       309\n",
      "         QB       0.96      0.95      0.95        96\n",
      "         RB       0.86      0.81      0.83       213\n",
      "         TE       0.57      0.55      0.56       133\n",
      "         WR       0.77      0.66      0.71       282\n",
      "\n",
      "avg / total       0.60      0.58      0.58      1924\n",
      "\n",
      "\n",
      "\n",
      "[[320   7  14   0 124   1   2   0   7]\n",
      " [ 28  72  47   1  61   0   0   0   0]\n",
      " [ 27  50  45   1  59   0   1   0   0]\n",
      " [  0   0   0   4   0   0  17   0   3]\n",
      " [ 87  33  31   0 157   0   0   1   0]\n",
      " [  0   0   0   0   4  91   0   0   1]\n",
      " [  2   0   0  10  18   2 172   2   7]\n",
      " [  4   0   0   1  13   0   4  73  38]\n",
      " [ 10   0   0   0  29   1   4  52 186]]\n"
     ]
    }
   ],
   "source": [
    "#Rodamos o modelo que acabamos de treinar e realizamos a predição de fato\n",
    "predictions = dtree.predict(X_test)\n",
    "\n",
    "print(\"Classification Report e matriz de confusão - Decision Trees\")\n",
    "print('\\n')\n",
    "print(classification_report(y_test,predictions))\n",
    "print('\\n')\n",
    "print(confusion_matrix(y_test,predictions))"
   ]
  },
  {
   "cell_type": "markdown",
   "metadata": {},
   "source": [
    "## Random Forests"
   ]
  },
  {
   "cell_type": "code",
   "execution_count": 14,
   "metadata": {},
   "outputs": [
    {
     "data": {
      "text/plain": [
       "RandomForestClassifier(bootstrap=True, class_weight=None, criterion='gini',\n",
       "            max_depth=None, max_features='auto', max_leaf_nodes=None,\n",
       "            min_impurity_decrease=0.0, min_impurity_split=None,\n",
       "            min_samples_leaf=1, min_samples_split=2,\n",
       "            min_weight_fraction_leaf=0.0, n_estimators=100, n_jobs=1,\n",
       "            oob_score=False, random_state=None, verbose=0,\n",
       "            warm_start=False)"
      ]
     },
     "execution_count": 14,
     "metadata": {},
     "output_type": "execute_result"
    }
   ],
   "source": [
    "from sklearn.ensemble import RandomForestClassifier\n",
    "\n",
    "#Semelhante ao que fizemos acima, treinamos um outro modelo. Agora, será usado o Random Forests\n",
    "rf_class = RandomForestClassifier(n_estimators=100)\n",
    "rf_class.fit(X_train,y_train)"
   ]
  },
  {
   "cell_type": "code",
   "execution_count": 16,
   "metadata": {},
   "outputs": [
    {
     "name": "stdout",
     "output_type": "stream",
     "text": [
      "Classification Report e matriz de confusão - Random Forests\n",
      "\n",
      "\n",
      "             precision    recall  f1-score   support\n",
      "\n",
      "         DB       0.71      0.68      0.70       475\n",
      "         DE       0.48      0.41      0.44       209\n",
      "         DT       0.37      0.25      0.30       183\n",
      "         FB       0.17      0.04      0.07        24\n",
      "         LB       0.36      0.56      0.43       309\n",
      "         QB       0.97      0.94      0.95        96\n",
      "         RB       0.85      0.87      0.86       213\n",
      "         TE       0.67      0.53      0.59       133\n",
      "         WR       0.81      0.74      0.77       282\n",
      "\n",
      "avg / total       0.63      0.61      0.62      1924\n",
      "\n",
      "\n",
      "\n",
      "[[323   6  11   0 130   1   1   0   3]\n",
      " [ 22  86  40   1  59   1   0   0   0]\n",
      " [ 25  52  46   1  58   0   1   0   0]\n",
      " [  0   0   0   1   0   0  20   1   2]\n",
      " [ 73  35  28   0 172   0   0   1   0]\n",
      " [  0   0   0   0   4  90   2   0   0]\n",
      " [  2   0   0   1  18   1 186   1   4]\n",
      " [  4   0   0   2  12   0   4  70  41]\n",
      " [  5   0   0   0  30   0   6  32 209]]\n"
     ]
    }
   ],
   "source": [
    "#Analogamente, realizados a predição\n",
    "rf_class_predict = rf_class.predict(X_test)\n",
    "\n",
    "print(\"Classification Report e matriz de confusão - Random Forests\")\n",
    "print('\\n')\n",
    "print(classification_report(y_test,rf_class_predict))\n",
    "print('\\n')\n",
    "print(confusion_matrix(y_test,rf_class_predict))"
   ]
  },
  {
   "cell_type": "markdown",
   "metadata": {},
   "source": [
    "---"
   ]
  },
  {
   "cell_type": "markdown",
   "metadata": {},
   "source": [
    "## KNN - K Nearest Neigbhors"
   ]
  },
  {
   "cell_type": "code",
   "execution_count": 17,
   "metadata": {},
   "outputs": [
    {
     "data": {
      "text/plain": [
       "StandardScaler(copy=True, with_mean=True, with_std=True)"
      ]
     },
     "execution_count": 17,
     "metadata": {},
     "output_type": "execute_result"
    }
   ],
   "source": [
    "from sklearn.neighbors import KNeighborsClassifier\n",
    "from sklearn.preprocessing import StandardScaler\n",
    "\n",
    "#Escolhemos, então, um terceiro modelo. Dessa vez será usado o KNN\n",
    "scaler = StandardScaler()\n",
    "scaler.fit(X)"
   ]
  },
  {
   "cell_type": "markdown",
   "metadata": {},
   "source": [
    "Para utilizar o KNN, normalizamos os dados de teste e treino utilizando o **Standar Scaler**."
   ]
  },
  {
   "cell_type": "code",
   "execution_count": 18,
   "metadata": {},
   "outputs": [
    {
     "data": {
      "text/html": [
       "<div>\n",
       "<style scoped>\n",
       "    .dataframe tbody tr th:only-of-type {\n",
       "        vertical-align: middle;\n",
       "    }\n",
       "\n",
       "    .dataframe tbody tr th {\n",
       "        vertical-align: top;\n",
       "    }\n",
       "\n",
       "    .dataframe thead th {\n",
       "        text-align: right;\n",
       "    }\n",
       "</style>\n",
       "<table border=\"1\" class=\"dataframe\">\n",
       "  <thead>\n",
       "    <tr style=\"text-align: right;\">\n",
       "      <th></th>\n",
       "      <th>Cmp</th>\n",
       "      <th>Pass_Att</th>\n",
       "      <th>Pass_Yds</th>\n",
       "      <th>Pass_TD</th>\n",
       "      <th>Pass_Int</th>\n",
       "      <th>Rush_Att</th>\n",
       "      <th>Rush_Yds</th>\n",
       "      <th>Rush_TDs</th>\n",
       "      <th>Rec</th>\n",
       "      <th>Rec_Yds</th>\n",
       "      <th>Rec_Tds</th>\n",
       "      <th>Tkl</th>\n",
       "      <th>Def_Int</th>\n",
       "      <th>Sk</th>\n",
       "    </tr>\n",
       "  </thead>\n",
       "  <tbody>\n",
       "    <tr>\n",
       "      <th>0</th>\n",
       "      <td>1.724437</td>\n",
       "      <td>1.768809</td>\n",
       "      <td>1.845881</td>\n",
       "      <td>1.823803</td>\n",
       "      <td>1.618230</td>\n",
       "      <td>0.112399</td>\n",
       "      <td>0.071345</td>\n",
       "      <td>0.682295</td>\n",
       "      <td>-0.339055</td>\n",
       "      <td>-0.310469</td>\n",
       "      <td>-0.279062</td>\n",
       "      <td>-0.456882</td>\n",
       "      <td>-0.325187</td>\n",
       "      <td>-0.320854</td>\n",
       "    </tr>\n",
       "    <tr>\n",
       "      <th>1</th>\n",
       "      <td>1.443272</td>\n",
       "      <td>1.377709</td>\n",
       "      <td>1.513708</td>\n",
       "      <td>1.823803</td>\n",
       "      <td>1.127289</td>\n",
       "      <td>0.085209</td>\n",
       "      <td>0.260608</td>\n",
       "      <td>0.300547</td>\n",
       "      <td>-0.330440</td>\n",
       "      <td>-0.282991</td>\n",
       "      <td>-0.177800</td>\n",
       "      <td>-0.456882</td>\n",
       "      <td>-0.325187</td>\n",
       "      <td>-0.320854</td>\n",
       "    </tr>\n",
       "    <tr>\n",
       "      <th>2</th>\n",
       "      <td>-0.127134</td>\n",
       "      <td>-0.130523</td>\n",
       "      <td>-0.126616</td>\n",
       "      <td>-0.117919</td>\n",
       "      <td>-0.135130</td>\n",
       "      <td>-0.221653</td>\n",
       "      <td>-0.215781</td>\n",
       "      <td>-0.208451</td>\n",
       "      <td>-0.339055</td>\n",
       "      <td>-0.310469</td>\n",
       "      <td>-0.279062</td>\n",
       "      <td>-0.335659</td>\n",
       "      <td>-0.325187</td>\n",
       "      <td>-0.129724</td>\n",
       "    </tr>\n",
       "    <tr>\n",
       "      <th>3</th>\n",
       "      <td>-0.127134</td>\n",
       "      <td>-0.130523</td>\n",
       "      <td>-0.126616</td>\n",
       "      <td>-0.117919</td>\n",
       "      <td>-0.135130</td>\n",
       "      <td>-0.210000</td>\n",
       "      <td>-0.218551</td>\n",
       "      <td>-0.208451</td>\n",
       "      <td>0.815283</td>\n",
       "      <td>1.009824</td>\n",
       "      <td>0.632299</td>\n",
       "      <td>-0.456882</td>\n",
       "      <td>-0.325187</td>\n",
       "      <td>-0.320854</td>\n",
       "    </tr>\n",
       "    <tr>\n",
       "      <th>4</th>\n",
       "      <td>-0.127134</td>\n",
       "      <td>-0.130523</td>\n",
       "      <td>-0.126616</td>\n",
       "      <td>-0.117919</td>\n",
       "      <td>-0.135130</td>\n",
       "      <td>-0.221653</td>\n",
       "      <td>-0.215781</td>\n",
       "      <td>-0.208451</td>\n",
       "      <td>-0.339055</td>\n",
       "      <td>-0.310469</td>\n",
       "      <td>-0.279062</td>\n",
       "      <td>-0.032602</td>\n",
       "      <td>-0.325187</td>\n",
       "      <td>0.367213</td>\n",
       "    </tr>\n",
       "  </tbody>\n",
       "</table>\n",
       "</div>"
      ],
      "text/plain": [
       "        Cmp  Pass_Att  Pass_Yds   Pass_TD  Pass_Int  Rush_Att  Rush_Yds  \\\n",
       "0  1.724437  1.768809  1.845881  1.823803  1.618230  0.112399  0.071345   \n",
       "1  1.443272  1.377709  1.513708  1.823803  1.127289  0.085209  0.260608   \n",
       "2 -0.127134 -0.130523 -0.126616 -0.117919 -0.135130 -0.221653 -0.215781   \n",
       "3 -0.127134 -0.130523 -0.126616 -0.117919 -0.135130 -0.210000 -0.218551   \n",
       "4 -0.127134 -0.130523 -0.126616 -0.117919 -0.135130 -0.221653 -0.215781   \n",
       "\n",
       "   Rush_TDs       Rec   Rec_Yds   Rec_Tds       Tkl   Def_Int        Sk  \n",
       "0  0.682295 -0.339055 -0.310469 -0.279062 -0.456882 -0.325187 -0.320854  \n",
       "1  0.300547 -0.330440 -0.282991 -0.177800 -0.456882 -0.325187 -0.320854  \n",
       "2 -0.208451 -0.339055 -0.310469 -0.279062 -0.335659 -0.325187 -0.129724  \n",
       "3 -0.208451  0.815283  1.009824  0.632299 -0.456882 -0.325187 -0.320854  \n",
       "4 -0.208451 -0.339055 -0.310469 -0.279062 -0.032602 -0.325187  0.367213  "
      ]
     },
     "execution_count": 18,
     "metadata": {},
     "output_type": "execute_result"
    }
   ],
   "source": [
    "scaled_features = scaler.transform(X) \n",
    "\n",
    "df_feat = pd.DataFrame(scaled_features, columns=labels_class)\n",
    "df_feat.head()"
   ]
  },
  {
   "cell_type": "markdown",
   "metadata": {},
   "source": [
    "#### Train Test Split"
   ]
  },
  {
   "cell_type": "code",
   "execution_count": 19,
   "metadata": {},
   "outputs": [],
   "source": [
    "#Separação dos dados em treino e teste. 33% da base estará dedicada à teste.\n",
    "X_train_knn, X_test_knn, y_train_knn, y_test_knn = train_test_split(scaled_features, y, test_size = 0.33)"
   ]
  },
  {
   "cell_type": "code",
   "execution_count": 20,
   "metadata": {},
   "outputs": [
    {
     "data": {
      "text/plain": [
       "KNeighborsClassifier(algorithm='auto', leaf_size=30, metric='minkowski',\n",
       "           metric_params=None, n_jobs=1, n_neighbors=1, p=2,\n",
       "           weights='uniform')"
      ]
     },
     "execution_count": 20,
     "metadata": {},
     "output_type": "execute_result"
    }
   ],
   "source": [
    "#Treinamento do KNN\n",
    "knn = KNeighborsClassifier(n_neighbors = 1)\n",
    "\n",
    "knn.fit(X_train_knn, y_train_knn)"
   ]
  },
  {
   "cell_type": "code",
   "execution_count": 21,
   "metadata": {},
   "outputs": [],
   "source": [
    "#Mais uma vez realizamos a predição do modelo\n",
    "predicition_knn = knn.predict(X_test_knn)"
   ]
  },
  {
   "cell_type": "markdown",
   "metadata": {},
   "source": [
    "#### Prediction and Evaluation"
   ]
  },
  {
   "cell_type": "code",
   "execution_count": 22,
   "metadata": {},
   "outputs": [
    {
     "name": "stdout",
     "output_type": "stream",
     "text": [
      "K = 1\n",
      "\n",
      "\n",
      "[[324  14  15   0  75   1   0   0   1]\n",
      " [ 39  81  54   1  49   0   0   0   0]\n",
      " [ 32  43  59   0  54   0   0   0   0]\n",
      " [  3   1   0   1   0   0   7   0   2]\n",
      " [129  27  32   1 138   0   0   0   1]\n",
      " [  6   0   0   1   0  91   2   1   0]\n",
      " [ 15   0   0  12   3   0 183   6   5]\n",
      " [  5   0   0   1   4   0   6  61  57]\n",
      " [ 22   2   1   2   0   2   3  50 199]]\n",
      "\n",
      "\n",
      "             precision    recall  f1-score   support\n",
      "\n",
      "         DB       0.56      0.75      0.64       430\n",
      "         DE       0.48      0.36      0.41       224\n",
      "         DT       0.37      0.31      0.34       188\n",
      "         FB       0.05      0.07      0.06        14\n",
      "         LB       0.43      0.42      0.42       328\n",
      "         QB       0.97      0.90      0.93       101\n",
      "         RB       0.91      0.82      0.86       224\n",
      "         TE       0.52      0.46      0.48       134\n",
      "         WR       0.75      0.71      0.73       281\n",
      "\n",
      "avg / total       0.59      0.59      0.59      1924\n",
      "\n"
     ]
    }
   ],
   "source": [
    "#Matriz de confusão e resultados para K = 1\n",
    "print(\"K = 1\")\n",
    "print('\\n')\n",
    "print(confusion_matrix(y_test_knn, predicition_knn))\n",
    "print('\\n')\n",
    "print(classification_report(y_test_knn,predicition_knn))"
   ]
  },
  {
   "cell_type": "markdown",
   "metadata": {},
   "source": [
    "#### Escolhendo o melhor K\n",
    "\n",
    "Após a primeira aplicação do KNN utilizando K = 1, realizamos novas aplicações do modelo com diferentes valores de K na intenção de achar o valor que nos retorna-se o menor erro para os dados."
   ]
  },
  {
   "cell_type": "code",
   "execution_count": 31,
   "metadata": {},
   "outputs": [],
   "source": [
    "error = []\n",
    "\n",
    "#Com o objetivo de melhorar os resultados, rodamos o KNN diversas vezes com valores diferentes para o parâmetro K\n",
    "for i in range(1, 35):\n",
    "    knn = KNeighborsClassifier(n_neighbors=i)\n",
    "    knn.fit(X_train_knn,y_train_knn)\n",
    "    pred_i = knn.predict(X_test_knn)\n",
    "    error.append(np.mean(pred_i != y_test_knn))"
   ]
  },
  {
   "cell_type": "code",
   "execution_count": 32,
   "metadata": {},
   "outputs": [
    {
     "data": {
      "text/plain": [
       "Text(0,0.5,'Taxa de Error')"
      ]
     },
     "execution_count": 32,
     "metadata": {},
     "output_type": "execute_result"
    },
    {
     "data": {
      "image/png": "[encoded data removed]",
      "text/plain": [
       "<Figure size 720x432 with 1 Axes>"
      ]
     },
     "metadata": {},
     "output_type": "display_data"
    }
   ],
   "source": [
    "#Abaixo é mostrado um gráfico da taxa de erro encontrada nos resultados do modelo\n",
    "#para cada valor de K escolhido anteriormente\n",
    "plt.figure(figsize=(10,6))\n",
    "plt.plot(range(1,35),error,color='blue', linestyle='dashed', marker='o',\n",
    "         markerfacecolor='red', markersize=10)\n",
    "plt.title('Taxa de Error vs. Valor de K')\n",
    "plt.xlabel('K')\n",
    "plt.ylabel('Taxa de Error')"
   ]
  },
  {
   "cell_type": "markdown",
   "metadata": {},
   "source": [
    "Com base no gráfico podemos ver que com **K = 23**, temos o menor erro para o nosso modelo e que a partir desse valor temos uma taxa de erro novamente crescente. Assim iremos re-aplicar o modelo aos dados utilizando nosso melhor valor de K"
   ]
  },
  {
   "cell_type": "code",
   "execution_count": 33,
   "metadata": {},
   "outputs": [
    {
     "name": "stdout",
     "output_type": "stream",
     "text": [
      "K = 23\n",
      "\n",
      "\n",
      "[[319   4   8   0  98   0   0   0   1]\n",
      " [ 25 116  32   0  50   0   0   0   1]\n",
      " [ 30  58  51   0  49   0   0   0   0]\n",
      " [  0   0   1   0   3   0   6   3   1]\n",
      " [ 89  47  16   0 174   0   0   0   2]\n",
      " [  0   0   0   0  10  86   5   0   0]\n",
      " [  4   0   0   1  13   0 187   3  16]\n",
      " [  0   0   0   0   6   0   1  37  90]\n",
      " [  5   0   1   0  20   1   1   8 245]]\n",
      "\n",
      "\n",
      "             precision    recall  f1-score   support\n",
      "\n",
      "         DB       0.68      0.74      0.71       430\n",
      "         DE       0.52      0.52      0.52       224\n",
      "         DT       0.47      0.27      0.34       188\n",
      "         FB       0.00      0.00      0.00        14\n",
      "         LB       0.41      0.53      0.46       328\n",
      "         QB       0.99      0.85      0.91       101\n",
      "         RB       0.94      0.83      0.88       224\n",
      "         TE       0.73      0.28      0.40       134\n",
      "         WR       0.69      0.87      0.77       281\n",
      "\n",
      "avg / total       0.64      0.63      0.62      1924\n",
      "\n"
     ]
    }
   ],
   "source": [
    "knn = KNeighborsClassifier(n_neighbors=23)\n",
    "\n",
    "knn.fit(X_train_knn, y_train_knn)\n",
    "predicition_knn_23 = knn.predict(X_test_knn)\n",
    "\n",
    "#Matriz de confusão e reusltados para o modelo com K = 23\n",
    "print(\"K = 23\")\n",
    "print('\\n')\n",
    "print(confusion_matrix(y_test_knn, predicition_knn_23))\n",
    "print('\\n')\n",
    "print(classification_report(y_test_knn,predicition_knn_23))"
   ]
  },
  {
   "cell_type": "markdown",
   "metadata": {},
   "source": [
    "Logo, podemos ver que utilizando nosso melhor valor de K temos um aumento nos valores de precisão, revocação e do f1-score. E mesmo não tendo otimos valores parar essas métricas, podemos assumir que utilizando o KNN temos um melhor modelo para classificação dos jogadores utilizando suas estatítisicas de carreira.\n",
    "\n",
    "---"
   ]
  },
  {
   "cell_type": "code",
   "execution_count": null,
   "metadata": {},
   "outputs": [],
   "source": []
  }
 ],
 "metadata": {
  "kernelspec": {
   "display_name": "Python 3",
   "language": "python",
   "name": "python3"
  },
  "language_info": {
   "codemirror_mode": {
    "name": "ipython",
    "version": 3
   },
   "file_extension": ".py",
   "mimetype": "text/x-python",
   "name": "python",
   "nbconvert_exporter": "python",
   "pygments_lexer": "ipython3",
   "version": "3.6.5"
  }
 },
 "nbformat": 4,
 "nbformat_minor": 2
}
