{
 "cells": [
  {
   "cell_type": "code",
   "execution_count": 4,
   "metadata": {},
   "outputs": [],
   "source": [
    "import numpy as np\n",
    "import pandas as pd\n",
    "import matplotlib.pyplot as plt\n",
    "import seaborn as sns\n",
    "from scipy import stats as ss\n",
    "%matplotlib inline\n",
    "\n",
    "from sklearn.model_selection import train_test_split\n",
    "from sklearn.tree import DecisionTreeClassifier\n",
    "from sklearn.metrics import classification_report, confusion_matrix"
   ]
  },
  {
   "cell_type": "code",
   "execution_count": 5,
   "metadata": {},
   "outputs": [
    {
     "data": {
      "text/html": [
       "<div>\n",
       "<style scoped>\n",
       "    .dataframe tbody tr th:only-of-type {\n",
       "        vertical-align: middle;\n",
       "    }\n",
       "\n",
       "    .dataframe tbody tr th {\n",
       "        vertical-align: top;\n",
       "    }\n",
       "\n",
       "    .dataframe thead th {\n",
       "        text-align: right;\n",
       "    }\n",
       "</style>\n",
       "<table border=\"1\" class=\"dataframe\">\n",
       "  <thead>\n",
       "    <tr style=\"text-align: right;\">\n",
       "      <th></th>\n",
       "      <th>Player_Id</th>\n",
       "      <th>Year</th>\n",
       "      <th>Rnd</th>\n",
       "      <th>Pick</th>\n",
       "      <th>Tm</th>\n",
       "      <th>Player</th>\n",
       "      <th>Pos</th>\n",
       "      <th>Position Standard</th>\n",
       "      <th>First4AV</th>\n",
       "      <th>Age</th>\n",
       "      <th>...</th>\n",
       "      <th>Rush_Yds</th>\n",
       "      <th>Rush_TDs</th>\n",
       "      <th>Rec</th>\n",
       "      <th>Rec_Yds</th>\n",
       "      <th>Rec_Tds</th>\n",
       "      <th>Tkl</th>\n",
       "      <th>Def_Int</th>\n",
       "      <th>Sk</th>\n",
       "      <th>College/Univ</th>\n",
       "      <th>carrer_years</th>\n",
       "    </tr>\n",
       "  </thead>\n",
       "  <tbody>\n",
       "    <tr>\n",
       "      <th>0</th>\n",
       "      <td>WinsJa00</td>\n",
       "      <td>2015</td>\n",
       "      <td>1.0</td>\n",
       "      <td>1</td>\n",
       "      <td>TAM</td>\n",
       "      <td>Jameis Winston</td>\n",
       "      <td>QB</td>\n",
       "      <td>QB</td>\n",
       "      <td>13</td>\n",
       "      <td>21.0</td>\n",
       "      <td>...</td>\n",
       "      <td>311.0</td>\n",
       "      <td>7.0</td>\n",
       "      <td>0.0</td>\n",
       "      <td>0.0</td>\n",
       "      <td>0.0</td>\n",
       "      <td>0.0</td>\n",
       "      <td>0.0</td>\n",
       "      <td>0.0</td>\n",
       "      <td>Florida St.</td>\n",
       "      <td>2.0</td>\n",
       "    </tr>\n",
       "    <tr>\n",
       "      <th>1</th>\n",
       "      <td>MariMa01</td>\n",
       "      <td>2015</td>\n",
       "      <td>1.0</td>\n",
       "      <td>2</td>\n",
       "      <td>TEN</td>\n",
       "      <td>Marcus Mariota</td>\n",
       "      <td>QB</td>\n",
       "      <td>QB</td>\n",
       "      <td>9</td>\n",
       "      <td>21.0</td>\n",
       "      <td>...</td>\n",
       "      <td>516.0</td>\n",
       "      <td>4.0</td>\n",
       "      <td>1.0</td>\n",
       "      <td>41.0</td>\n",
       "      <td>1.0</td>\n",
       "      <td>0.0</td>\n",
       "      <td>0.0</td>\n",
       "      <td>0.0</td>\n",
       "      <td>Oregon</td>\n",
       "      <td>2.0</td>\n",
       "    </tr>\n",
       "    <tr>\n",
       "      <th>2</th>\n",
       "      <td>FowlDa00</td>\n",
       "      <td>2015</td>\n",
       "      <td>1.0</td>\n",
       "      <td>3</td>\n",
       "      <td>JAX</td>\n",
       "      <td>Dante Fowler</td>\n",
       "      <td>OLB</td>\n",
       "      <td>LB</td>\n",
       "      <td>0</td>\n",
       "      <td>21.0</td>\n",
       "      <td>...</td>\n",
       "      <td>0.0</td>\n",
       "      <td>0.0</td>\n",
       "      <td>0.0</td>\n",
       "      <td>0.0</td>\n",
       "      <td>0.0</td>\n",
       "      <td>16.0</td>\n",
       "      <td>0.0</td>\n",
       "      <td>2.5</td>\n",
       "      <td>Florida</td>\n",
       "      <td>2.0</td>\n",
       "    </tr>\n",
       "    <tr>\n",
       "      <th>3</th>\n",
       "      <td>CoopAm00</td>\n",
       "      <td>2015</td>\n",
       "      <td>1.0</td>\n",
       "      <td>4</td>\n",
       "      <td>OAK</td>\n",
       "      <td>Amari Cooper</td>\n",
       "      <td>WR</td>\n",
       "      <td>WR</td>\n",
       "      <td>9</td>\n",
       "      <td>21.0</td>\n",
       "      <td>...</td>\n",
       "      <td>-3.0</td>\n",
       "      <td>0.0</td>\n",
       "      <td>134.0</td>\n",
       "      <td>1970.0</td>\n",
       "      <td>9.0</td>\n",
       "      <td>0.0</td>\n",
       "      <td>0.0</td>\n",
       "      <td>0.0</td>\n",
       "      <td>Alabama</td>\n",
       "      <td>2.0</td>\n",
       "    </tr>\n",
       "    <tr>\n",
       "      <th>4</th>\n",
       "      <td>ScheBr00</td>\n",
       "      <td>2015</td>\n",
       "      <td>1.0</td>\n",
       "      <td>5</td>\n",
       "      <td>WAS</td>\n",
       "      <td>Brandon Scherff</td>\n",
       "      <td>T</td>\n",
       "      <td>T</td>\n",
       "      <td>7</td>\n",
       "      <td>23.0</td>\n",
       "      <td>...</td>\n",
       "      <td>0.0</td>\n",
       "      <td>0.0</td>\n",
       "      <td>0.0</td>\n",
       "      <td>0.0</td>\n",
       "      <td>0.0</td>\n",
       "      <td>0.0</td>\n",
       "      <td>0.0</td>\n",
       "      <td>0.0</td>\n",
       "      <td>Iowa</td>\n",
       "      <td>2.0</td>\n",
       "    </tr>\n",
       "  </tbody>\n",
       "</table>\n",
       "<p>5 rows × 33 columns</p>\n",
       "</div>"
      ],
      "text/plain": [
       "  Player_Id  Year  Rnd  Pick   Tm           Player  Pos Position Standard  \\\n",
       "0  WinsJa00  2015  1.0     1  TAM   Jameis Winston   QB                QB   \n",
       "1  MariMa01  2015  1.0     2  TEN   Marcus Mariota   QB                QB   \n",
       "2  FowlDa00  2015  1.0     3  JAX     Dante Fowler  OLB                LB   \n",
       "3  CoopAm00  2015  1.0     4  OAK     Amari Cooper   WR                WR   \n",
       "4  ScheBr00  2015  1.0     5  WAS  Brandon Scherff    T                 T   \n",
       "\n",
       "   First4AV   Age      ...       Rush_Yds  Rush_TDs    Rec  Rec_Yds  Rec_Tds  \\\n",
       "0        13  21.0      ...          311.0       7.0    0.0      0.0      0.0   \n",
       "1         9  21.0      ...          516.0       4.0    1.0     41.0      1.0   \n",
       "2         0  21.0      ...            0.0       0.0    0.0      0.0      0.0   \n",
       "3         9  21.0      ...           -3.0       0.0  134.0   1970.0      9.0   \n",
       "4         7  23.0      ...            0.0       0.0    0.0      0.0      0.0   \n",
       "\n",
       "    Tkl  Def_Int   Sk  College/Univ  carrer_years  \n",
       "0   0.0      0.0  0.0   Florida St.           2.0  \n",
       "1   0.0      0.0  0.0        Oregon           2.0  \n",
       "2  16.0      0.0  2.5       Florida           2.0  \n",
       "3   0.0      0.0  0.0       Alabama           2.0  \n",
       "4   0.0      0.0  0.0          Iowa           2.0  \n",
       "\n",
       "[5 rows x 33 columns]"
      ]
     },
     "execution_count": 5,
     "metadata": {},
     "output_type": "execute_result"
    }
   ],
   "source": [
    "df_draft = pd.read_csv('../data/clean_nfl_draft.csv')\n",
    "df_draft.head()"
   ]
  },
  {
   "cell_type": "code",
   "execution_count": 12,
   "metadata": {},
   "outputs": [],
   "source": [
    "drop_labels = ['C', 'T', 'G', 'K', 'P']\n",
    "for label in drop_labels:\n",
    "    df_draft.drop(df_draft.index[df_draft['Position Standard'] == label], inplace = True)"
   ]
  },
  {
   "cell_type": "code",
   "execution_count": 15,
   "metadata": {},
   "outputs": [],
   "source": [
    "idx_sk = list(df_draft.columns).index('Sk')\n",
    "idx_cmp = list(df_draft.columns).index('Cmp')"
   ]
  },
  {
   "cell_type": "code",
   "execution_count": 16,
   "metadata": {},
   "outputs": [],
   "source": [
    "labels_class = df_draft.columns[idx_cmp:idx_sk+1]"
   ]
  },
  {
   "cell_type": "markdown",
   "metadata": {},
   "source": [
    "#### Train Test Split"
   ]
  },
  {
   "cell_type": "code",
   "execution_count": 17,
   "metadata": {},
   "outputs": [],
   "source": [
    "X = df_draft[labels_class]\n",
    "y = df_draft['Position Standard']"
   ]
  },
  {
   "cell_type": "code",
   "execution_count": 18,
   "metadata": {},
   "outputs": [],
   "source": [
    "X_train, X_test, y_train, y_test = train_test_split(X, y, test_size = 0.33)"
   ]
  },
  {
   "cell_type": "markdown",
   "metadata": {},
   "source": [
    "## Decision Trees"
   ]
  },
  {
   "cell_type": "code",
   "execution_count": 19,
   "metadata": {},
   "outputs": [],
   "source": [
    "dtree = DecisionTreeClassifier()"
   ]
  },
  {
   "cell_type": "code",
   "execution_count": 20,
   "metadata": {},
   "outputs": [
    {
     "data": {
      "text/plain": [
       "DecisionTreeClassifier(class_weight=None, criterion='gini', max_depth=None,\n",
       "            max_features=None, max_leaf_nodes=None,\n",
       "            min_impurity_decrease=0.0, min_impurity_split=None,\n",
       "            min_samples_leaf=1, min_samples_split=2,\n",
       "            min_weight_fraction_leaf=0.0, presort=False, random_state=None,\n",
       "            splitter='best')"
      ]
     },
     "execution_count": 20,
     "metadata": {},
     "output_type": "execute_result"
    }
   ],
   "source": [
    "dtree.fit(X_train,y_train)"
   ]
  },
  {
   "cell_type": "markdown",
   "metadata": {},
   "source": [
    "#### Prediction and Evaluation"
   ]
  },
  {
   "cell_type": "code",
   "execution_count": 21,
   "metadata": {},
   "outputs": [],
   "source": [
    "predictions = dtree.predict(X_test)"
   ]
  },
  {
   "cell_type": "code",
   "execution_count": 22,
   "metadata": {},
   "outputs": [
    {
     "name": "stdout",
     "output_type": "stream",
     "text": [
      "             precision    recall  f1-score   support\n",
      "\n",
      "         DB       0.67      0.66      0.67       441\n",
      "         DE       0.53      0.36      0.43       218\n",
      "         DT       0.30      0.23      0.26       196\n",
      "         FB       0.19      0.28      0.23        18\n",
      "         LB       0.35      0.54      0.43       310\n",
      "         QB       0.95      0.96      0.96       102\n",
      "         RB       0.87      0.82      0.84       206\n",
      "         TE       0.57      0.50      0.53       145\n",
      "         WR       0.78      0.72      0.75       288\n",
      "\n",
      "avg / total       0.61      0.59      0.59      1924\n",
      "\n"
     ]
    }
   ],
   "source": [
    "print(classification_report(y_test,predictions))"
   ]
  },
  {
   "cell_type": "code",
   "execution_count": 23,
   "metadata": {},
   "outputs": [
    {
     "name": "stdout",
     "output_type": "stream",
     "text": [
      "[[292   1  13   1 127   2   0   1   4]\n",
      " [ 24  79  47   1  66   0   0   1   0]\n",
      " [ 29  53  45   1  67   0   1   0   0]\n",
      " [  0   0   0   5   3   0   7   0   3]\n",
      " [ 80  17  43   0 168   0   1   1   0]\n",
      " [  0   0   0   0   2  98   2   0   0]\n",
      " [  2   0   0  14  12   2 169   2   5]\n",
      " [  3   0   0   3  11   0   9  72  47]\n",
      " [  4   0   0   1  19   1   6  50 207]]\n"
     ]
    }
   ],
   "source": [
    "print(confusion_matrix(y_test,predictions))"
   ]
  },
  {
   "cell_type": "markdown",
   "metadata": {},
   "source": [
    "## Random Forests"
   ]
  },
  {
   "cell_type": "code",
   "execution_count": 24,
   "metadata": {},
   "outputs": [
    {
     "name": "stderr",
     "output_type": "stream",
     "text": [
      "/home/gabrielperson/anaconda3/lib/python3.6/importlib/_bootstrap.py:219: RuntimeWarning: numpy.dtype size changed, may indicate binary incompatibility. Expected 96, got 88\n",
      "  return f(*args, **kwds)\n"
     ]
    },
    {
     "data": {
      "text/plain": [
       "RandomForestClassifier(bootstrap=True, class_weight=None, criterion='gini',\n",
       "            max_depth=None, max_features='auto', max_leaf_nodes=None,\n",
       "            min_impurity_decrease=0.0, min_impurity_split=None,\n",
       "            min_samples_leaf=1, min_samples_split=2,\n",
       "            min_weight_fraction_leaf=0.0, n_estimators=100, n_jobs=1,\n",
       "            oob_score=False, random_state=None, verbose=0,\n",
       "            warm_start=False)"
      ]
     },
     "execution_count": 24,
     "metadata": {},
     "output_type": "execute_result"
    }
   ],
   "source": [
    "from sklearn.ensemble import RandomForestClassifier\n",
    "rf_class = RandomForestClassifier(n_estimators=100)\n",
    "rf_class.fit(X_train,y_train)"
   ]
  },
  {
   "cell_type": "code",
   "execution_count": 25,
   "metadata": {},
   "outputs": [],
   "source": [
    "rf_class_predict = rf_class.predict(X_test)"
   ]
  },
  {
   "cell_type": "code",
   "execution_count": 26,
   "metadata": {},
   "outputs": [
    {
     "name": "stdout",
     "output_type": "stream",
     "text": [
      "             precision    recall  f1-score   support\n",
      "\n",
      "         DB       0.73      0.69      0.71       441\n",
      "         DE       0.54      0.35      0.42       218\n",
      "         DT       0.33      0.27      0.29       196\n",
      "         FB       0.40      0.22      0.29        18\n",
      "         LB       0.38      0.60      0.47       310\n",
      "         QB       0.99      0.96      0.98       102\n",
      "         RB       0.90      0.87      0.88       206\n",
      "         TE       0.59      0.47      0.52       145\n",
      "         WR       0.75      0.77      0.76       288\n",
      "\n",
      "avg / total       0.63      0.62      0.62      1924\n",
      "\n"
     ]
    }
   ],
   "source": [
    "print(classification_report(y_test,rf_class_predict))"
   ]
  },
  {
   "cell_type": "code",
   "execution_count": 27,
   "metadata": {},
   "outputs": [
    {
     "name": "stdout",
     "output_type": "stream",
     "text": [
      "[[306   1  12   0 119   1   0   1   1]\n",
      " [ 20  76  49   1  71   0   0   1   0]\n",
      " [ 27  49  52   1  67   0   0   0   0]\n",
      " [  0   0   0   4   3   0   9   0   2]\n",
      " [ 62  16  44   0 186   0   1   1   0]\n",
      " [  0   0   0   0   2  98   2   0   0]\n",
      " [  1   0   0   3  12   0 179   0  11]\n",
      " [  2   0   0   1  10   0   6  68  58]\n",
      " [  1   0   0   0  19   0   2  45 221]]\n"
     ]
    }
   ],
   "source": [
    "print(confusion_matrix(y_test,rf_class_predict))"
   ]
  },
  {
   "cell_type": "code",
   "execution_count": null,
   "metadata": {},
   "outputs": [],
   "source": []
  },
  {
   "cell_type": "markdown",
   "metadata": {},
   "source": [
    "## KNN - K Nearest Neigbhors"
   ]
  },
  {
   "cell_type": "code",
   "execution_count": 35,
   "metadata": {},
   "outputs": [],
   "source": [
    "from sklearn.neighbors import KNeighborsClassifier\n",
    "from sklearn.preprocessing import StandardScaler"
   ]
  },
  {
   "cell_type": "code",
   "execution_count": 29,
   "metadata": {},
   "outputs": [
    {
     "data": {
      "text/plain": [
       "StandardScaler(copy=True, with_mean=True, with_std=True)"
      ]
     },
     "execution_count": 29,
     "metadata": {},
     "output_type": "execute_result"
    }
   ],
   "source": [
    "scaler = StandardScaler()\n",
    "scaler.fit(X)"
   ]
  },
  {
   "cell_type": "code",
   "execution_count": 30,
   "metadata": {},
   "outputs": [],
   "source": [
    "scaled_features = scaler.transform(X) "
   ]
  },
  {
   "cell_type": "code",
   "execution_count": 31,
   "metadata": {},
   "outputs": [
    {
     "data": {
      "text/html": [
       "<div>\n",
       "<style scoped>\n",
       "    .dataframe tbody tr th:only-of-type {\n",
       "        vertical-align: middle;\n",
       "    }\n",
       "\n",
       "    .dataframe tbody tr th {\n",
       "        vertical-align: top;\n",
       "    }\n",
       "\n",
       "    .dataframe thead th {\n",
       "        text-align: right;\n",
       "    }\n",
       "</style>\n",
       "<table border=\"1\" class=\"dataframe\">\n",
       "  <thead>\n",
       "    <tr style=\"text-align: right;\">\n",
       "      <th></th>\n",
       "      <th>Cmp</th>\n",
       "      <th>Pass_Att</th>\n",
       "      <th>Pass_Yds</th>\n",
       "      <th>Pass_TD</th>\n",
       "      <th>Pass_Int</th>\n",
       "      <th>Rush_Att</th>\n",
       "      <th>Rush_Yds</th>\n",
       "      <th>Rush_TDs</th>\n",
       "      <th>Rec</th>\n",
       "      <th>Rec_Yds</th>\n",
       "      <th>Rec_Tds</th>\n",
       "      <th>Tkl</th>\n",
       "      <th>Def_Int</th>\n",
       "      <th>Sk</th>\n",
       "    </tr>\n",
       "  </thead>\n",
       "  <tbody>\n",
       "    <tr>\n",
       "      <th>0</th>\n",
       "      <td>1.724437</td>\n",
       "      <td>1.768809</td>\n",
       "      <td>1.845881</td>\n",
       "      <td>1.823803</td>\n",
       "      <td>1.618230</td>\n",
       "      <td>0.112399</td>\n",
       "      <td>0.071345</td>\n",
       "      <td>0.682295</td>\n",
       "      <td>-0.339055</td>\n",
       "      <td>-0.310469</td>\n",
       "      <td>-0.279062</td>\n",
       "      <td>-0.456882</td>\n",
       "      <td>-0.325187</td>\n",
       "      <td>-0.320854</td>\n",
       "    </tr>\n",
       "    <tr>\n",
       "      <th>1</th>\n",
       "      <td>1.443272</td>\n",
       "      <td>1.377709</td>\n",
       "      <td>1.513708</td>\n",
       "      <td>1.823803</td>\n",
       "      <td>1.127289</td>\n",
       "      <td>0.085209</td>\n",
       "      <td>0.260608</td>\n",
       "      <td>0.300547</td>\n",
       "      <td>-0.330440</td>\n",
       "      <td>-0.282991</td>\n",
       "      <td>-0.177800</td>\n",
       "      <td>-0.456882</td>\n",
       "      <td>-0.325187</td>\n",
       "      <td>-0.320854</td>\n",
       "    </tr>\n",
       "    <tr>\n",
       "      <th>2</th>\n",
       "      <td>-0.127134</td>\n",
       "      <td>-0.130523</td>\n",
       "      <td>-0.126616</td>\n",
       "      <td>-0.117919</td>\n",
       "      <td>-0.135130</td>\n",
       "      <td>-0.221653</td>\n",
       "      <td>-0.215781</td>\n",
       "      <td>-0.208451</td>\n",
       "      <td>-0.339055</td>\n",
       "      <td>-0.310469</td>\n",
       "      <td>-0.279062</td>\n",
       "      <td>-0.335659</td>\n",
       "      <td>-0.325187</td>\n",
       "      <td>-0.129724</td>\n",
       "    </tr>\n",
       "    <tr>\n",
       "      <th>3</th>\n",
       "      <td>-0.127134</td>\n",
       "      <td>-0.130523</td>\n",
       "      <td>-0.126616</td>\n",
       "      <td>-0.117919</td>\n",
       "      <td>-0.135130</td>\n",
       "      <td>-0.210000</td>\n",
       "      <td>-0.218551</td>\n",
       "      <td>-0.208451</td>\n",
       "      <td>0.815283</td>\n",
       "      <td>1.009824</td>\n",
       "      <td>0.632299</td>\n",
       "      <td>-0.456882</td>\n",
       "      <td>-0.325187</td>\n",
       "      <td>-0.320854</td>\n",
       "    </tr>\n",
       "    <tr>\n",
       "      <th>4</th>\n",
       "      <td>-0.127134</td>\n",
       "      <td>-0.130523</td>\n",
       "      <td>-0.126616</td>\n",
       "      <td>-0.117919</td>\n",
       "      <td>-0.135130</td>\n",
       "      <td>-0.221653</td>\n",
       "      <td>-0.215781</td>\n",
       "      <td>-0.208451</td>\n",
       "      <td>-0.339055</td>\n",
       "      <td>-0.310469</td>\n",
       "      <td>-0.279062</td>\n",
       "      <td>-0.032602</td>\n",
       "      <td>-0.325187</td>\n",
       "      <td>0.367213</td>\n",
       "    </tr>\n",
       "  </tbody>\n",
       "</table>\n",
       "</div>"
      ],
      "text/plain": [
       "        Cmp  Pass_Att  Pass_Yds   Pass_TD  Pass_Int  Rush_Att  Rush_Yds  \\\n",
       "0  1.724437  1.768809  1.845881  1.823803  1.618230  0.112399  0.071345   \n",
       "1  1.443272  1.377709  1.513708  1.823803  1.127289  0.085209  0.260608   \n",
       "2 -0.127134 -0.130523 -0.126616 -0.117919 -0.135130 -0.221653 -0.215781   \n",
       "3 -0.127134 -0.130523 -0.126616 -0.117919 -0.135130 -0.210000 -0.218551   \n",
       "4 -0.127134 -0.130523 -0.126616 -0.117919 -0.135130 -0.221653 -0.215781   \n",
       "\n",
       "   Rush_TDs       Rec   Rec_Yds   Rec_Tds       Tkl   Def_Int        Sk  \n",
       "0  0.682295 -0.339055 -0.310469 -0.279062 -0.456882 -0.325187 -0.320854  \n",
       "1  0.300547 -0.330440 -0.282991 -0.177800 -0.456882 -0.325187 -0.320854  \n",
       "2 -0.208451 -0.339055 -0.310469 -0.279062 -0.335659 -0.325187 -0.129724  \n",
       "3 -0.208451  0.815283  1.009824  0.632299 -0.456882 -0.325187 -0.320854  \n",
       "4 -0.208451 -0.339055 -0.310469 -0.279062 -0.032602 -0.325187  0.367213  "
      ]
     },
     "execution_count": 31,
     "metadata": {},
     "output_type": "execute_result"
    }
   ],
   "source": [
    "df_feat = pd.DataFrame(scaled_features, columns=labels_class)\n",
    "df_feat.head()"
   ]
  },
  {
   "cell_type": "markdown",
   "metadata": {},
   "source": [
    "#### Train Test Split"
   ]
  },
  {
   "cell_type": "code",
   "execution_count": 37,
   "metadata": {},
   "outputs": [],
   "source": [
    "X_train_knn, X_test_knn, y_train_knn, y_test_knn = train_test_split(scaled_features, y, test_size = 0.33)"
   ]
  },
  {
   "cell_type": "code",
   "execution_count": 38,
   "metadata": {},
   "outputs": [],
   "source": [
    "knn = KNeighborsClassifier(n_neighbors = 1)"
   ]
  },
  {
   "cell_type": "code",
   "execution_count": 40,
   "metadata": {},
   "outputs": [
    {
     "data": {
      "text/plain": [
       "KNeighborsClassifier(algorithm='auto', leaf_size=30, metric='minkowski',\n",
       "           metric_params=None, n_jobs=1, n_neighbors=1, p=2,\n",
       "           weights='uniform')"
      ]
     },
     "execution_count": 40,
     "metadata": {},
     "output_type": "execute_result"
    }
   ],
   "source": [
    "knn.fit(X_train_knn, y_train_knn)"
   ]
  },
  {
   "cell_type": "code",
   "execution_count": 41,
   "metadata": {},
   "outputs": [],
   "source": [
    "predicition_knn = knn.predict(X_test_knn)"
   ]
  },
  {
   "cell_type": "markdown",
   "metadata": {},
   "source": [
    "#### Prediction and Evaluation"
   ]
  },
  {
   "cell_type": "code",
   "execution_count": 48,
   "metadata": {},
   "outputs": [
    {
     "name": "stdout",
     "output_type": "stream",
     "text": [
      "K = 1\n",
      "\n",
      "\n",
      "[[305  29  15   1 116   0   1   0   1]\n",
      " [ 10  82  41   1  46   0   0   0   0]\n",
      " [ 21  62  48   0  41   0   0   0   0]\n",
      " [  0   1   0   5   3   0   6   4   4]\n",
      " [ 78  54  40   0 158   0   0   0   1]\n",
      " [  0   0   0   0   5  87   1   1   0]\n",
      " [  1   1   0  11  20   2 196   7   7]\n",
      " [  0   0   1   0  13   0   1  67  44]\n",
      " [  6   3   2   4  25   0   4  57 184]]\n",
      "\n",
      "\n",
      "             precision    recall  f1-score   support\n",
      "\n",
      "         DB       0.72      0.65      0.69       468\n",
      "         DE       0.35      0.46      0.40       180\n",
      "         DT       0.33      0.28      0.30       172\n",
      "         FB       0.23      0.22      0.22        23\n",
      "         LB       0.37      0.48      0.42       331\n",
      "         QB       0.98      0.93      0.95        94\n",
      "         RB       0.94      0.80      0.86       245\n",
      "         TE       0.49      0.53      0.51       126\n",
      "         WR       0.76      0.65      0.70       285\n",
      "\n",
      "avg / total       0.62      0.59      0.60      1924\n",
      "\n"
     ]
    }
   ],
   "source": [
    "print(\"K = 1\")\n",
    "print('\\n')\n",
    "print(confusion_matrix(y_test_knn, predicition_knn))\n",
    "print('\\n')\n",
    "print(classification_report(y_test_knn,predicition_knn))"
   ]
  },
  {
   "cell_type": "markdown",
   "metadata": {},
   "source": [
    "#### Escolhendo o melhor K"
   ]
  },
  {
   "cell_type": "code",
   "execution_count": 45,
   "metadata": {},
   "outputs": [],
   "source": [
    "error = []\n",
    "\n",
    "for i in range(1, 25):\n",
    "    knn = KNeighborsClassifier(n_neighbors=i)\n",
    "    knn.fit(X_train_knn,y_train_knn)\n",
    "    pred_i = knn.predict(X_test_knn)\n",
    "    error.append(np.mean(pred_i != y_test_knn))"
   ]
  },
  {
   "cell_type": "code",
   "execution_count": 47,
   "metadata": {},
   "outputs": [
    {
     "data": {
      "text/plain": [
       "Text(0,0.5,'Taxa de Error')"
      ]
     },
     "execution_count": 47,
     "metadata": {},
     "output_type": "execute_result"
    },
    {
     "data": {
      "image/png": "[encoded data removed]",
      "text/plain": [
       "<Figure size 720x432 with 1 Axes>"
      ]
     },
     "metadata": {},
     "output_type": "display_data"
    }
   ],
   "source": [
    "plt.figure(figsize=(10,6))\n",
    "plt.plot(range(1,25),error,color='blue', linestyle='dashed', marker='o',\n",
    "         markerfacecolor='red', markersize=10)\n",
    "plt.title('Taxa de Error vs. Valor de K')\n",
    "plt.xlabel('K')\n",
    "plt.ylabel('Taxa de Error')"
   ]
  },
  {
   "cell_type": "code",
   "execution_count": 51,
   "metadata": {},
   "outputs": [
    {
     "name": "stdout",
     "output_type": "stream",
     "text": [
      "K = 23\n",
      "\n",
      "\n",
      "[[424   6   7   0  29   0   2   0   0]\n",
      " [ 46  84  42   0   7   0   0   0   1]\n",
      " [ 46  60  49   0  17   0   0   0   0]\n",
      " [  6   0   0   1   0   0   6   5   5]\n",
      " [177  38  26   0  89   0   0   0   1]\n",
      " [  7   0   0   0   1  84   2   0   0]\n",
      " [ 25   0   0   0   2   0 201  11   6]\n",
      " [ 14   0   0   0   0   0   1  40  71]\n",
      " [ 34   0   0   0   1   0   3  25 222]]\n",
      "\n",
      "\n",
      "             precision    recall  f1-score   support\n",
      "\n",
      "         DB       0.54      0.91      0.68       468\n",
      "         DE       0.45      0.47      0.46       180\n",
      "         DT       0.40      0.28      0.33       172\n",
      "         FB       1.00      0.04      0.08        23\n",
      "         LB       0.61      0.27      0.37       331\n",
      "         QB       1.00      0.89      0.94        94\n",
      "         RB       0.93      0.82      0.87       245\n",
      "         TE       0.49      0.32      0.39       126\n",
      "         WR       0.73      0.78      0.75       285\n",
      "\n",
      "avg / total       0.63      0.62      0.60      1924\n",
      "\n"
     ]
    }
   ],
   "source": [
    "knn = KNeighborsClassifier(n_neighbors=13)\n",
    "\n",
    "knn.fit(X_train_knn, y_train_knn)\n",
    "predicition_knn_23 = knn.predict(X_test_knn)\n",
    "\n",
    "print(\"K = 23\")\n",
    "print('\\n')\n",
    "print(confusion_matrix(y_test_knn, predicition_knn_23))\n",
    "print('\\n')\n",
    "print(classification_report(y_test_knn,predicition_knn_23))"
   ]
  },
  {
   "cell_type": "code",
   "execution_count": null,
   "metadata": {},
   "outputs": [],
   "source": []
  }
 ],
 "metadata": {
  "kernelspec": {
   "display_name": "Python 3",
   "language": "python",
   "name": "python3"
  },
  "language_info": {
   "codemirror_mode": {
    "name": "ipython",
    "version": 3
   },
   "file_extension": ".py",
   "mimetype": "text/x-python",
   "name": "python",
   "nbconvert_exporter": "python",
   "pygments_lexer": "ipython3",
   "version": "3.6.5"
  }
 },
 "nbformat": 4,
 "nbformat_minor": 2
}
