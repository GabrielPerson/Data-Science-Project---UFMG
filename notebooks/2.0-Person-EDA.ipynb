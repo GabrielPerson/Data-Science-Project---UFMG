{
 "cells": [
  {
   "cell_type": "code",
   "execution_count": 2,
   "metadata": {},
   "outputs": [],
   "source": [
    "import sys\n",
    "import pandas as pd\n",
    "import numpy as np\n",
    "import pandas_profiling\n",
    "import matplotlib.pyplot as plt\n",
    "%matplotlib inline\n",
    "sys.path.append('../')"
   ]
  },
  {
   "cell_type": "code",
   "execution_count": 18,
   "metadata": {},
   "outputs": [],
   "source": [
    "df_draft = pd.read_csv('../data/clean_nfl_draft.csv')"
   ]
  },
  {
   "cell_type": "code",
   "execution_count": 32,
   "metadata": {},
   "outputs": [
    {
     "data": {
      "text/html": [
       "<div>\n",
       "<style scoped>\n",
       "    .dataframe tbody tr th:only-of-type {\n",
       "        vertical-align: middle;\n",
       "    }\n",
       "\n",
       "    .dataframe tbody tr th {\n",
       "        vertical-align: top;\n",
       "    }\n",
       "\n",
       "    .dataframe thead th {\n",
       "        text-align: right;\n",
       "    }\n",
       "</style>\n",
       "<table border=\"1\" class=\"dataframe\">\n",
       "  <thead>\n",
       "    <tr style=\"text-align: right;\">\n",
       "      <th></th>\n",
       "      <th>Player_Id</th>\n",
       "      <th>Year</th>\n",
       "      <th>Rnd</th>\n",
       "      <th>Pick</th>\n",
       "      <th>Tm</th>\n",
       "      <th>Player</th>\n",
       "      <th>Pos</th>\n",
       "      <th>Position Standard</th>\n",
       "      <th>First4AV</th>\n",
       "      <th>Age</th>\n",
       "      <th>...</th>\n",
       "      <th>Rush_Yds</th>\n",
       "      <th>Rush_TDs</th>\n",
       "      <th>Rec</th>\n",
       "      <th>Rec_Yds</th>\n",
       "      <th>Rec_Tds</th>\n",
       "      <th>Tkl</th>\n",
       "      <th>Def_Int</th>\n",
       "      <th>Sk</th>\n",
       "      <th>College/Univ</th>\n",
       "      <th>carrer_years</th>\n",
       "    </tr>\n",
       "  </thead>\n",
       "  <tbody>\n",
       "    <tr>\n",
       "      <th>0</th>\n",
       "      <td>WinsJa00</td>\n",
       "      <td>2015</td>\n",
       "      <td>1.0</td>\n",
       "      <td>1</td>\n",
       "      <td>TAM</td>\n",
       "      <td>Jameis Winston</td>\n",
       "      <td>QB</td>\n",
       "      <td>QB</td>\n",
       "      <td>13</td>\n",
       "      <td>21.0</td>\n",
       "      <td>...</td>\n",
       "      <td>311.0</td>\n",
       "      <td>7.0</td>\n",
       "      <td>0.0</td>\n",
       "      <td>0.0</td>\n",
       "      <td>0.0</td>\n",
       "      <td>0.0</td>\n",
       "      <td>0.0</td>\n",
       "      <td>0</td>\n",
       "      <td>Florida St.</td>\n",
       "      <td>2.0</td>\n",
       "    </tr>\n",
       "    <tr>\n",
       "      <th>1</th>\n",
       "      <td>MariMa01</td>\n",
       "      <td>2015</td>\n",
       "      <td>1.0</td>\n",
       "      <td>2</td>\n",
       "      <td>TEN</td>\n",
       "      <td>Marcus Mariota</td>\n",
       "      <td>QB</td>\n",
       "      <td>QB</td>\n",
       "      <td>9</td>\n",
       "      <td>21.0</td>\n",
       "      <td>...</td>\n",
       "      <td>516.0</td>\n",
       "      <td>4.0</td>\n",
       "      <td>1.0</td>\n",
       "      <td>41.0</td>\n",
       "      <td>1.0</td>\n",
       "      <td>0.0</td>\n",
       "      <td>0.0</td>\n",
       "      <td>0</td>\n",
       "      <td>Oregon</td>\n",
       "      <td>2.0</td>\n",
       "    </tr>\n",
       "    <tr>\n",
       "      <th>2</th>\n",
       "      <td>FowlDa00</td>\n",
       "      <td>2015</td>\n",
       "      <td>1.0</td>\n",
       "      <td>3</td>\n",
       "      <td>JAX</td>\n",
       "      <td>Dante Fowler</td>\n",
       "      <td>OLB</td>\n",
       "      <td>LB</td>\n",
       "      <td>0</td>\n",
       "      <td>21.0</td>\n",
       "      <td>...</td>\n",
       "      <td>0.0</td>\n",
       "      <td>0.0</td>\n",
       "      <td>0.0</td>\n",
       "      <td>0.0</td>\n",
       "      <td>0.0</td>\n",
       "      <td>16.0</td>\n",
       "      <td>0.0</td>\n",
       "      <td>2.5</td>\n",
       "      <td>Florida</td>\n",
       "      <td>2.0</td>\n",
       "    </tr>\n",
       "    <tr>\n",
       "      <th>3</th>\n",
       "      <td>CoopAm00</td>\n",
       "      <td>2015</td>\n",
       "      <td>1.0</td>\n",
       "      <td>4</td>\n",
       "      <td>OAK</td>\n",
       "      <td>Amari Cooper</td>\n",
       "      <td>WR</td>\n",
       "      <td>WR</td>\n",
       "      <td>9</td>\n",
       "      <td>21.0</td>\n",
       "      <td>...</td>\n",
       "      <td>-3.0</td>\n",
       "      <td>0.0</td>\n",
       "      <td>134.0</td>\n",
       "      <td>1970.0</td>\n",
       "      <td>9.0</td>\n",
       "      <td>0.0</td>\n",
       "      <td>0.0</td>\n",
       "      <td>0</td>\n",
       "      <td>Alabama</td>\n",
       "      <td>2.0</td>\n",
       "    </tr>\n",
       "    <tr>\n",
       "      <th>4</th>\n",
       "      <td>ScheBr00</td>\n",
       "      <td>2015</td>\n",
       "      <td>1.0</td>\n",
       "      <td>5</td>\n",
       "      <td>WAS</td>\n",
       "      <td>Brandon Scherff</td>\n",
       "      <td>T</td>\n",
       "      <td>T</td>\n",
       "      <td>7</td>\n",
       "      <td>23.0</td>\n",
       "      <td>...</td>\n",
       "      <td>0.0</td>\n",
       "      <td>0.0</td>\n",
       "      <td>0.0</td>\n",
       "      <td>0.0</td>\n",
       "      <td>0.0</td>\n",
       "      <td>0.0</td>\n",
       "      <td>0.0</td>\n",
       "      <td>0</td>\n",
       "      <td>Iowa</td>\n",
       "      <td>2.0</td>\n",
       "    </tr>\n",
       "  </tbody>\n",
       "</table>\n",
       "<p>5 rows × 33 columns</p>\n",
       "</div>"
      ],
      "text/plain": [
       "  Player_Id  Year  Rnd  Pick   Tm           Player  Pos Position Standard  \\\n",
       "0  WinsJa00  2015  1.0     1  TAM   Jameis Winston   QB                QB   \n",
       "1  MariMa01  2015  1.0     2  TEN   Marcus Mariota   QB                QB   \n",
       "2  FowlDa00  2015  1.0     3  JAX     Dante Fowler  OLB                LB   \n",
       "3  CoopAm00  2015  1.0     4  OAK     Amari Cooper   WR                WR   \n",
       "4  ScheBr00  2015  1.0     5  WAS  Brandon Scherff    T                 T   \n",
       "\n",
       "   First4AV   Age      ...       Rush_Yds  Rush_TDs    Rec  Rec_Yds  Rec_Tds  \\\n",
       "0        13  21.0      ...          311.0       7.0    0.0      0.0      0.0   \n",
       "1         9  21.0      ...          516.0       4.0    1.0     41.0      1.0   \n",
       "2         0  21.0      ...            0.0       0.0    0.0      0.0      0.0   \n",
       "3         9  21.0      ...           -3.0       0.0  134.0   1970.0      9.0   \n",
       "4         7  23.0      ...            0.0       0.0    0.0      0.0      0.0   \n",
       "\n",
       "    Tkl  Def_Int   Sk  College/Univ  carrer_years  \n",
       "0   0.0      0.0    0   Florida St.           2.0  \n",
       "1   0.0      0.0    0        Oregon           2.0  \n",
       "2  16.0      0.0  2.5       Florida           2.0  \n",
       "3   0.0      0.0    0       Alabama           2.0  \n",
       "4   0.0      0.0    0          Iowa           2.0  \n",
       "\n",
       "[5 rows x 33 columns]"
      ]
     },
     "execution_count": 32,
     "metadata": {},
     "output_type": "execute_result"
    }
   ],
   "source": [
    "df_draft.head()"
   ]
  },
  {
   "cell_type": "code",
   "execution_count": 58,
   "metadata": {},
   "outputs": [
    {
     "data": {
      "text/plain": [
       "Index(['Player_Id', 'Year', 'Rnd', 'Pick', 'Tm', 'Player', 'Pos',\n",
       "       'Position Standard', 'First4AV', 'Age', 'To', 'AP1', 'PB', 'St',\n",
       "       'CarAV', 'DrAV', 'G', 'Cmp', 'Pass_Att', 'Pass_Yds', 'Pass_TD',\n",
       "       'Pass_Int', 'Rush_Att', 'Rush_Yds', 'Rush_TDs', 'Rec', 'Rec_Yds',\n",
       "       'Rec_Tds', 'Tkl', 'Def_Int', 'Sk', 'College/Univ', 'carrer_years'],\n",
       "      dtype='object')"
      ]
     },
     "execution_count": 58,
     "metadata": {},
     "output_type": "execute_result"
    }
   ],
   "source": [
    "df_draft.columns"
   ]
  },
  {
   "cell_type": "code",
   "execution_count": 21,
   "metadata": {},
   "outputs": [],
   "source": [
    "df_draft.drop(['Unnamed: 0'],inplace=True,axis=1)"
   ]
  },
  {
   "cell_type": "code",
   "execution_count": 70,
   "metadata": {},
   "outputs": [],
   "source": [
    "#Divisao do dataset em posições\n",
    "positions = list(set(df_draft['Position Standard']))\n",
    "Positions = {}\n",
    "info = list()\n",
    "for pos in positions:\n",
    "    Positions[pos] = df_draft[df_draft['Position Standard'] == pos]"
   ]
  },
  {
   "cell_type": "code",
   "execution_count": 37,
   "metadata": {},
   "outputs": [],
   "source": [
    "#Divisão do dataset em anos de carreira\n",
    "Carrer_years = {}\n",
    "Carrer_years['0-5'] = df_draft[df_draft['carrer_years'] <= 5]\n",
    "Carrer_years['6-10'] = df_draft[(df_draft['carrer_years'] >5)  & (df_draft['carrer_years'] <= 10)]\n",
    "Carrer_years['11-15'] = df_draft[(df_draft['carrer_years'] > 10) & (df_draft['carrer_years'] <= 15)]\n",
    "Carrer_years['16-20'] = df_draft[df_draft['carrer_years'] > 15]\n",
    "        "
   ]
  },
  {
   "cell_type": "code",
   "execution_count": 69,
   "metadata": {},
   "outputs": [],
   "source": [
    "#Total de posições que cada College/Univ \"ofereceu\" ao draft\n",
    "College_Position = df_draft.groupby(['College/Univ','Position Standard']).count()['Player_Id']"
   ]
  },
  {
   "cell_type": "code",
   "execution_count": 64,
   "metadata": {},
   "outputs": [],
   "source": [
    "#Draft AV por time a cada ano\n",
    "DrAV_Team_Year = df_draft.groupby(['Tm','Year']).sum()['DrAV']"
   ]
  },
  {
   "cell_type": "code",
   "execution_count": null,
   "metadata": {},
   "outputs": [],
   "source": []
  }
 ],
 "metadata": {
  "kernelspec": {
   "display_name": "Python 3",
   "language": "python",
   "name": "python3"
  },
  "language_info": {
   "codemirror_mode": {
    "name": "ipython",
    "version": 3
   },
   "file_extension": ".py",
   "mimetype": "text/x-python",
   "name": "python",
   "nbconvert_exporter": "python",
   "pygments_lexer": "ipython3",
   "version": "3.6.5"
  }
 },
 "nbformat": 4,
 "nbformat_minor": 2
}
