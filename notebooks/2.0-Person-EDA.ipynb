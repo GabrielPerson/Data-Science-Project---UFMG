{
 "cells": [
  {
   "cell_type": "code",
   "execution_count": 1,
   "metadata": {},
   "outputs": [],
   "source": [
    "import sys\n",
    "import pandas as pd\n",
    "import numpy as np\n",
    "import pandas_profiling\n",
    "import matplotlib.pyplot as plt\n",
    "import seaborn as sns\n",
    "%matplotlib inline\n",
    "sys.path.append('../')"
   ]
  },
  {
   "cell_type": "code",
   "execution_count": 32,
   "metadata": {},
   "outputs": [],
   "source": [
    "df_draft = pd.read_csv('../data/clean_nfl_draft.csv')\n",
    "#df_draft.drop(['Unnamed: 0'],inplace=True,axis=1)"
   ]
  },
  {
   "cell_type": "code",
   "execution_count": 19,
   "metadata": {},
   "outputs": [],
   "source": [
    "temp_int = df_draft['Tkl'][5139:5169] \n",
    "temp_sk = df_draft['Def_Int'][5139:5169]\n",
    "temp_coll = df_draft['Sk'][5139:5169]"
   ]
  },
  {
   "cell_type": "code",
   "execution_count": 20,
   "metadata": {},
   "outputs": [],
   "source": [
    "df_draft.loc[5139:5169, 'College/Univ'] = temp_coll"
   ]
  },
  {
   "cell_type": "code",
   "execution_count": 21,
   "metadata": {},
   "outputs": [],
   "source": [
    "df_draft.loc[5139:5169, 'Sk'] = temp_sk"
   ]
  },
  {
   "cell_type": "code",
   "execution_count": 22,
   "metadata": {},
   "outputs": [],
   "source": [
    "df_draft.loc[5139:5169, 'Def_Int'] = temp_int"
   ]
  },
  {
   "cell_type": "code",
   "execution_count": 23,
   "metadata": {},
   "outputs": [],
   "source": [
    "df_draft.loc[5139:5169, 'Tkl'] = 0"
   ]
  },
  {
   "cell_type": "code",
   "execution_count": 33,
   "metadata": {},
   "outputs": [],
   "source": [
    "df_draft.loc[5169,['Def_Int','Tkl','Sk']] = [0,0,0]"
   ]
  },
  {
   "cell_type": "code",
   "execution_count": 36,
   "metadata": {},
   "outputs": [],
   "source": [
    "df_draft.loc[5138,'Sk'] = 0"
   ]
  },
  {
   "cell_type": "code",
   "execution_count": 37,
   "metadata": {},
   "outputs": [],
   "source": [
    "df_draft.to_csv('../data/clean_nfl_draft.csv',index=False)"
   ]
  },
  {
   "cell_type": "code",
   "execution_count": null,
   "metadata": {},
   "outputs": [],
   "source": []
  },
  {
   "cell_type": "code",
   "execution_count": 27,
   "metadata": {},
   "outputs": [
    {
     "data": {
      "text/plain": [
       "5139     8.5\n",
       "5140    42.5\n",
       "5141     0.0\n",
       "5142     2.0\n",
       "5143     0.0\n",
       "5144     5.5\n",
       "5145     0.0\n",
       "Name: Sk, dtype: object"
      ]
     },
     "execution_count": 27,
     "metadata": {},
     "output_type": "execute_result"
    }
   ],
   "source": [
    "df_draft.loc[5139:5145]['Sk'] "
   ]
  },
  {
   "cell_type": "code",
   "execution_count": 4,
   "metadata": {},
   "outputs": [],
   "source": [
    "#Divisao do dataset em posições\n",
    "positions = set(df_draft['Position Standard'])\n",
    "Positions = {}\n",
    "info = list()\n",
    "for pos in positions:\n",
    "    Positions[pos] = df_draft[df_draft['Position Standard'] == pos]"
   ]
  },
  {
   "cell_type": "code",
   "execution_count": 5,
   "metadata": {},
   "outputs": [],
   "source": [
    "#Divisão do dataset em anos de carreira\n",
    "Carrer_years = {}\n",
    "Carrer_years['0-5'] = df_draft[df_draft['carrer_years'] <= 5]\n",
    "Carrer_years['6-10'] = df_draft[(df_draft['carrer_years'] >5)  & (df_draft['carrer_years'] <= 10)]\n",
    "Carrer_years['11-15'] = df_draft[(df_draft['carrer_years'] > 10) & (df_draft['carrer_years'] <= 15)]\n",
    "Carrer_years['16-20'] = df_draft[df_draft['carrer_years'] > 15]"
   ]
  },
  {
   "cell_type": "code",
   "execution_count": 6,
   "metadata": {},
   "outputs": [],
   "source": [
    "#Total de posições que cada College/Univ \"ofereceu\" ao draft\n",
    "College_Position = df_draft.groupby(['Position Standard','College/Univ']).count()['Player_Id']"
   ]
  },
  {
   "cell_type": "code",
   "execution_count": 7,
   "metadata": {},
   "outputs": [],
   "source": [
    "#Draft AV por time a cada ano\n",
    "DrAV_Team_Year = df_draft.groupby(['Tm','Year']).sum()['DrAV']"
   ]
  },
  {
   "cell_type": "raw",
   "metadata": {},
   "source": [
    "DrAV_Team_Year"
   ]
  },
  {
   "cell_type": "code",
   "execution_count": 8,
   "metadata": {},
   "outputs": [
    {
     "name": "stdout",
     "output_type": "stream",
     "text": [
      "Position: DB -- Top College: Nebraska -- Athlets: 32\n",
      "Position: G -- Top College: Penn St. -- Athlets: 13\n",
      "Position: LB -- Top College: Penn St. -- Athlets: 25\n",
      "Position: DE -- Top College: Florida St. -- Athlets: 14\n",
      "Position: K -- Top College: Georgia -- Athlets: 4\n",
      "Position: P -- Top College: Michigan St. -- Athlets: 4\n",
      "Position: DT -- Top College: Florida St. -- Athlets: 17\n",
      "Position: TE -- Top College: Notre Dame -- Athlets: 13\n",
      "Position: FB -- Top College: Auburn -- Athlets: 4\n",
      "Position: T -- Top College: Texas A&M -- Athlets: 12\n",
      "Position: WR -- Top College: Florida St. -- Athlets: 22\n",
      "Position: QB -- Top College: Oregon -- Athlets: 9\n",
      "Position: RB -- Top College: Miami (FL) -- Athlets: 16\n",
      "Position: C -- Top College: Notre Dame -- Athlets: 8\n"
     ]
    }
   ],
   "source": [
    "#Para cada posição, imprime o College/Univ. com mais atletas draftados da posição e a quantidade\n",
    "for pos in positions:\n",
    "    max_val = College_Position[pos].max() \n",
    "    top_pos = College_Position[pos].index[list(College_Position[pos]).index(max_val)]\n",
    "    print(\"Position: \" + pos + \" -- \" + \"Top College: \" + top_pos + ' -- ' + \"Athlets: \" + str(max_val))"
   ]
  },
  {
   "cell_type": "code",
   "execution_count": 9,
   "metadata": {},
   "outputs": [
    {
     "name": "stdout",
     "output_type": "stream",
     "text": [
      "Team: MIA -- Best Draft: 1997 -- DrAV: 238.0\n",
      "Team: IND -- Best Draft: 2001 -- DrAV: 241.0\n",
      "Team: TEN -- Best Draft: 2005 -- DrAV: 187.0\n",
      "Team: CLE -- Best Draft: 1999 -- DrAV: 125.0\n",
      "Team: DAL -- Best Draft: 2005 -- DrAV: 241.0\n",
      "Team: NYJ -- Best Draft: 2000 -- DrAV: 213.0\n",
      "Team: SFO -- Best Draft: 1986 -- DrAV: 345.0\n",
      "Team: CHI -- Best Draft: 2003 -- DrAV: 235.0\n",
      "Team: PHO -- Best Draft: 1991 -- DrAV: 135.0\n",
      "Team: CIN -- Best Draft: 2001 -- DrAV: 210.0\n",
      "Team: SEA -- Best Draft: 1990 -- DrAV: 248.0\n",
      "Team: BUF -- Best Draft: 1985 -- DrAV: 293.0\n",
      "Team: GNB -- Best Draft: 2000 -- DrAV: 232.0\n",
      "Team: ATL -- Best Draft: 2008 -- DrAV: 248.0\n",
      "Team: BAL -- Best Draft: 1996 -- DrAV: 291.0\n",
      "Team: SDG -- Best Draft: 2004 -- DrAV: 212.0\n",
      "Team: NYG -- Best Draft: 1993 -- DrAV: 238.0\n",
      "Team: WAS -- Best Draft: 1986 -- DrAV: 133.0\n",
      "Team: RAI -- Best Draft: 1988 -- DrAV: 203.0\n",
      "Team: HOU -- Best Draft: 1995 -- DrAV: 182.0\n",
      "Team: ARI -- Best Draft: 2004 -- DrAV: 238.0\n",
      "Team: JAX -- Best Draft: 2002 -- DrAV: 166.0\n",
      "Team: RAM -- Best Draft: 1994 -- DrAV: 170.0\n",
      "Team: OAK -- Best Draft: 1998 -- DrAV: 124.0\n",
      "Team: NOR -- Best Draft: 2006 -- DrAV: 286.0\n",
      "Team: STL -- Best Draft: 1997 -- DrAV: 156.0\n",
      "Team: MIN -- Best Draft: 1988 -- DrAV: 179.0\n",
      "Team: TAM -- Best Draft: 1995 -- DrAV: 265.0\n",
      "Team: PHI -- Best Draft: 1986 -- DrAV: 244.0\n",
      "Team: CAR -- Best Draft: 2001 -- DrAV: 187.0\n",
      "Team: DET -- Best Draft: 1989 -- DrAV: 197.0\n",
      "Team: NWE -- Best Draft: 1993 -- DrAV: 244.0\n",
      "Team: PIT -- Best Draft: 1987 -- DrAV: 292.0\n",
      "Team: DEN -- Best Draft: 2006 -- DrAV: 148.0\n",
      "Team: KAN -- Best Draft: 2008 -- DrAV: 189.0\n"
     ]
    }
   ],
   "source": [
    "teams = set(df_draft['Tm'])\n",
    "for team in teams:\n",
    "    #print -- Time -- Best Year -- Year\n",
    "    top_val = DrAV_Team_Year[team].max()\n",
    "    top_year = DrAV_Team_Year[team].index[list(DrAV_Team_Year[team]).index(top_val)]\n",
    "    print(\"Team: \" + team + ' -- ' + \"Best Draft: \" + str(top_year) + ' -- ' + \"DrAV: \" + str(top_val))"
   ]
  },
  {
   "cell_type": "code",
   "execution_count": 10,
   "metadata": {},
   "outputs": [],
   "source": [
    "first_pick_pos = df_draft.groupby(['Position Standard','Year']).min()['Pick']\n",
    "median_pick_pos = df_draft.groupby(['Position Standard','Year']).median()['Pick']\n",
    "mean_pick_pos = df_draft.groupby(['Position Standard','Year']).mean()['Pick']"
   ]
  },
  {
   "cell_type": "raw",
   "metadata": {},
   "source": [
    "mean_pick_pos"
   ]
  },
  {
   "cell_type": "code",
   "execution_count": 11,
   "metadata": {},
   "outputs": [
    {
     "name": "stdout",
     "output_type": "stream",
     "text": [
      "Position: DB -- Mean first picks: 9.0 -- Median first picks: 7.0\n",
      "Position: G -- Mean first picks: 22.0 -- Median first picks: 19.0\n",
      "Position: LB -- Mean first picks: 7.0 -- Median first picks: 5.0\n",
      "Position: DE -- Mean first picks: 7.0 -- Median first picks: 4.0\n",
      "Position: K -- Mean first picks: 117.0 -- Median first picks: 98.0\n",
      "Position: P -- Mean first picks: 129.0 -- Median first picks: 130.0\n",
      "Position: DT -- Mean first picks: 13.0 -- Median first picks: 9.0\n",
      "Position: TE -- Mean first picks: 28.0 -- Median first picks: 21.0\n",
      "Position: FB -- Mean first picks: 96.0 -- Median first picks: 87.0\n",
      "Position: T -- Mean first picks: 6.0 -- Median first picks: 4.0\n",
      "Position: WR -- Mean first picks: 10.0 -- Median first picks: 7.0\n",
      "Position: QB -- Mean first picks: 9.0 -- Median first picks: 1.0\n",
      "Position: RB -- Mean first picks: 11.0 -- Median first picks: 6.0\n",
      "Position: C -- Mean first picks: 41.0 -- Median first picks: 37.0\n"
     ]
    }
   ],
   "source": [
    "#Media, mediana das primeiras escolhas e cada posição ao longo da historia\n",
    "for pos in positions:\n",
    "    mean = round(first_pick_pos[pos].mean(),0)\n",
    "    median = round(first_pick_pos[pos].median(),0)\n",
    "    print(\"Position: \" + pos + ' -- ' + \"Mean first picks: \" + str(mean) + ' -- ' + \"Median first picks: \" + str(median))"
   ]
  },
  {
   "cell_type": "raw",
   "metadata": {},
   "source": [
    "College_Position2['DB'].plot(kind='barh',figsize=(10,30),grid=True)"
   ]
  },
  {
   "cell_type": "code",
   "execution_count": 12,
   "metadata": {},
   "outputs": [
    {
     "data": {
      "text/plain": [
       "<matplotlib.axes._subplots.AxesSubplot at 0x7f0076090748>"
      ]
     },
     "execution_count": 12,
     "metadata": {},
     "output_type": "execute_result"
    },
    {
     "data": {
      "image/png": "[encoded data removed]",
      "text/plain": [
       "<Figure size 792x504 with 1 Axes>"
      ]
     },
     "metadata": {},
     "output_type": "display_data"
    }
   ],
   "source": [
    "teams = set(df_draft['Tm'])\n",
    "DrAV_Team_Year['NYG'].plot(kind='bar',figsize=(11,7),title='WAS Team Draft AV througout the years')"
   ]
  },
  {
   "cell_type": "code",
   "execution_count": 13,
   "metadata": {},
   "outputs": [],
   "source": [
    "#Media da diferença entre CarAV e First4AV de todas as posições entre intervalos de carreira\n",
    "zero_five_diff = (Carrer_years['0-5']['CarAV'] - Carrer_years['0-5']['First4AV']).mean()\n",
    "five_ten_diff = (Carrer_years['6-10']['CarAV'] - Carrer_years['6-10']['First4AV']).mean()\n",
    "ten_fifteen_diff = (Carrer_years['11-15']['CarAV'] - Carrer_years['11-15']['First4AV']).mean() \n",
    "fifteen_twenty_diff = (Carrer_years['16-20']['CarAV'] - Carrer_years['16-20']['First4AV']).mean() "
   ]
  },
  {
   "cell_type": "code",
   "execution_count": 14,
   "metadata": {},
   "outputs": [
    {
     "name": "stdout",
     "output_type": "stream",
     "text": [
      "00-05 Carrer Years -- CarAV and First4AV difference: -0.05 -- Atletas: 3876\n",
      "06-10 Carrer Years -- CarAV and First4AV difference: 6.31 -- Atletas: 2415\n",
      "11-15 Carrer Years -- CarAV and First4AV difference: 28.57 -- Atletas: 696\n",
      "16-20 Carrer Years -- CarAV and First4AV difference: 49.05 -- Atletas: 65\n"
     ]
    }
   ],
   "source": [
    "print('00-05 Carrer Years -- CarAV and First4AV difference: ' + str(round(zero_five_diff,2)) + ' -- ' + \"Atletas: \" + str(len(Carrer_years['0-5'])))\n",
    "print('06-10 Carrer Years -- CarAV and First4AV difference: ' + str(round(five_ten_diff,2)) + ' -- ' + \"Atletas: \" + str(len(Carrer_years['6-10'])))\n",
    "print('11-15 Carrer Years -- CarAV and First4AV difference: ' + str(round(ten_fifteen_diff,2)) + ' -- ' + \"Atletas: \" + str(len(Carrer_years['11-15'])))\n",
    "print('16-20 Carrer Years -- CarAV and First4AV difference: ' + str(round(fifteen_twenty_diff,2)) + ' -- ' + \"Atletas: \" + str(len(Carrer_years['16-20'])))"
   ]
  },
  {
   "cell_type": "raw",
   "metadata": {},
   "source": [
    "#Top5 jogadores de todos os tempos\n",
    "df_draft['CarAV'].nlargest(5)\n",
    "'''\n",
    "Top5:\n",
    "Peyton Manning\n",
    "Tom Brady\n",
    "Ray Lewis\n",
    "Jerry Rice\n",
    "Bret Favre\n",
    "'''"
   ]
  },
  {
   "cell_type": "code",
   "execution_count": 15,
   "metadata": {},
   "outputs": [
    {
     "name": "stdout",
     "output_type": "stream",
     "text": [
      "00-05 Carrer Years -- DB -- CarAV and First4AV difference (media): -0.05 -- Atletas: 727\n",
      "06-10 Carrer Years -- DB -- CarAV and First4AV difference (media): 5.97 -- Atletas: 474\n",
      "11-15 Carrer Years -- DB -- CarAV and First4AV difference (media): 26.95 -- Atletas: 116\n",
      "16-20 Carrer Years -- DB -- CarAV and First4AV difference (media): 70.6 -- Atletas: 5\n",
      "\n",
      "\n",
      "00-05 Carrer Years -- G -- CarAV and First4AV difference (media): -0.04 -- Atletas: 207\n",
      "06-10 Carrer Years -- G -- CarAV and First4AV difference (media): 7.64 -- Atletas: 159\n",
      "11-15 Carrer Years -- G -- CarAV and First4AV difference (media): 34.96 -- Atletas: 48\n",
      "16-20 Carrer Years -- G -- CarAV and First4AV difference (media): 58.5 -- Atletas: 2\n",
      "\n",
      "\n",
      "00-05 Carrer Years -- LB -- CarAV and First4AV difference (media): -0.04 -- Atletas: 520\n",
      "06-10 Carrer Years -- LB -- CarAV and First4AV difference (media): 7.03 -- Atletas: 325\n",
      "11-15 Carrer Years -- LB -- CarAV and First4AV difference (media): 34.68 -- Atletas: 81\n",
      "16-20 Carrer Years -- LB -- CarAV and First4AV difference (media): 57.2 -- Atletas: 5\n",
      "\n",
      "\n",
      "00-05 Carrer Years -- DE -- CarAV and First4AV difference (media): -0.12 -- Atletas: 320\n",
      "06-10 Carrer Years -- DE -- CarAV and First4AV difference (media): 7.58 -- Atletas: 238\n",
      "11-15 Carrer Years -- DE -- CarAV and First4AV difference (media): 33.46 -- Atletas: 74\n",
      "16-20 Carrer Years -- DE -- CarAV and First4AV difference (media): 90.0 -- Atletas: 1\n",
      "\n",
      "\n",
      "00-05 Carrer Years -- K -- CarAV and First4AV difference (media): -0.04 -- Atletas: 26\n",
      "06-10 Carrer Years -- K -- CarAV and First4AV difference (media): 3.64 -- Atletas: 14\n",
      "11-15 Carrer Years -- K -- CarAV and First4AV difference (media): 13.57 -- Atletas: 14\n",
      "16-20 Carrer Years -- K -- CarAV and First4AV difference (media): 28.8 -- Atletas: 5\n",
      "\n",
      "\n",
      "00-05 Carrer Years -- P -- CarAV and First4AV difference (media): 0.0 -- Atletas: 27\n",
      "06-10 Carrer Years -- P -- CarAV and First4AV difference (media): 3.09 -- Atletas: 11\n",
      "11-15 Carrer Years -- P -- CarAV and First4AV difference (media): 10.58 -- Atletas: 12\n",
      "16-20 Carrer Years -- P -- CarAV and First4AV difference (media): 18.83 -- Atletas: 6\n",
      "\n",
      "\n",
      "00-05 Carrer Years -- DT -- CarAV and First4AV difference (media): -0.05 -- Atletas: 250\n",
      "06-10 Carrer Years -- DT -- CarAV and First4AV difference (media): 7.29 -- Atletas: 178\n",
      "11-15 Carrer Years -- DT -- CarAV and First4AV difference (media): 28.35 -- Atletas: 49\n",
      "16-20 Carrer Years -- DT -- CarAV and First4AV difference (media): 44.0 -- Atletas: 2\n",
      "\n",
      "\n",
      "00-05 Carrer Years -- TE -- CarAV and First4AV difference (media): -0.04 -- Atletas: 222\n",
      "06-10 Carrer Years -- TE -- CarAV and First4AV difference (media): 2.9 -- Atletas: 165\n",
      "11-15 Carrer Years -- TE -- CarAV and First4AV difference (media): 13.21 -- Atletas: 38\n",
      "16-20 Carrer Years -- TE -- CarAV and First4AV difference (media): 26.0 -- Atletas: 3\n",
      "\n",
      "\n",
      "00-05 Carrer Years -- FB -- CarAV and First4AV difference (media): -0.03 -- Atletas: 34\n",
      "06-10 Carrer Years -- FB -- CarAV and First4AV difference (media): 2.28 -- Atletas: 32\n",
      "11-15 Carrer Years -- FB -- CarAV and First4AV difference (media): 11.12 -- Atletas: 8\n",
      "16-20 Carrer Years -- FB -- CarAV and First4AV difference (media): 9.0 -- Atletas: 1\n",
      "\n",
      "\n",
      "00-05 Carrer Years -- T -- CarAV and First4AV difference (media): -0.15 -- Atletas: 238\n",
      "06-10 Carrer Years -- T -- CarAV and First4AV difference (media): 8.16 -- Atletas: 184\n",
      "11-15 Carrer Years -- T -- CarAV and First4AV difference (media): 30.17 -- Atletas: 63\n",
      "16-20 Carrer Years -- T -- CarAV and First4AV difference (media): 25.67 -- Atletas: 3\n",
      "\n",
      "\n",
      "00-05 Carrer Years -- WR -- CarAV and First4AV difference (media): 0.02 -- Atletas: 534\n",
      "06-10 Carrer Years -- WR -- CarAV and First4AV difference (media): 5.93 -- Atletas: 254\n",
      "11-15 Carrer Years -- WR -- CarAV and First4AV difference (media): 32.44 -- Atletas: 64\n",
      "16-20 Carrer Years -- WR -- CarAV and First4AV difference (media): 58.62 -- Atletas: 8\n",
      "\n",
      "\n",
      "00-05 Carrer Years -- QB -- CarAV and First4AV difference (media): -0.08 -- Atletas: 140\n",
      "06-10 Carrer Years -- QB -- CarAV and First4AV difference (media): 4.0 -- Atletas: 91\n",
      "11-15 Carrer Years -- QB -- CarAV and First4AV difference (media): 25.16 -- Atletas: 49\n",
      "16-20 Carrer Years -- QB -- CarAV and First4AV difference (media): 58.84 -- Atletas: 19\n",
      "\n",
      "\n",
      "00-05 Carrer Years -- RB -- CarAV and First4AV difference (media): -0.07 -- Atletas: 421\n",
      "06-10 Carrer Years -- RB -- CarAV and First4AV difference (media): 5.61 -- Atletas: 209\n",
      "11-15 Carrer Years -- RB -- CarAV and First4AV difference (media): 27.95 -- Atletas: 42\n",
      "16-20 Carrer Years -- RB -- CarAV and First4AV difference (media): 1.0 -- Atletas: 1\n",
      "\n",
      "\n",
      "00-05 Carrer Years -- C -- CarAV and First4AV difference (media): -0.12 -- Atletas: 76\n",
      "06-10 Carrer Years -- C -- CarAV and First4AV difference (media): 7.78 -- Atletas: 73\n",
      "11-15 Carrer Years -- C -- CarAV and First4AV difference (media): 29.03 -- Atletas: 30\n",
      "16-20 Carrer Years -- C -- CarAV and First4AV difference (media): 59.33 -- Atletas: 3\n",
      "\n",
      "\n"
     ]
    }
   ],
   "source": [
    "#Para cada posição tem-se para cada intervalo de 5 anos de carreira como o AV da carreira do jogador é representado pelo AV dos seus primeiros 4 anos.\n",
    "#Assim pode-se medir como jogadores de certas posições melhoram com o tempo e o quanto que esses evoluem.\n",
    "for pos in positions:\n",
    "    zero_five_diff_pos = (Carrer_years['0-5'][Carrer_years['0-5']['Pos'] == pos]['CarAV'] - Carrer_years['0-5'][Carrer_years['0-5']['Pos'] == pos]['First4AV']).mean()\n",
    "    five_ten_diff_pos = (Carrer_years['6-10'][Carrer_years['6-10']['Pos'] == pos]['CarAV'] - Carrer_years['6-10'][Carrer_years['6-10']['Pos'] == pos]['First4AV']).mean()\n",
    "    ten_fifteen_diff_pos = (Carrer_years['11-15'][Carrer_years['11-15']['Pos'] == pos]['CarAV'] - Carrer_years['11-15'][Carrer_years['11-15']['Pos'] == pos]['First4AV']).mean()\n",
    "    fifteen_twenty_diff_pos = (Carrer_years['16-20'][Carrer_years['16-20']['Pos'] == pos]['CarAV'] - Carrer_years['16-20'][Carrer_years['16-20']['Pos'] == pos]['First4AV']).mean()\n",
    "    print('00-05 Carrer Years -- ' + pos +  ' -- CarAV and First4AV difference (media): ' + str(round(zero_five_diff_pos,2)) + ' -- ' + \"Atletas: \" + str(len(Carrer_years['0-5'][Carrer_years['0-5']['Pos'] == pos]['CarAV'])))\n",
    "    print('06-10 Carrer Years -- ' + pos +  ' -- CarAV and First4AV difference (media): ' + str(round(five_ten_diff_pos,2)) + ' -- ' + \"Atletas: \" + str(len(Carrer_years['6-10'][Carrer_years['6-10']['Pos'] == pos]['CarAV'])))\n",
    "    print('11-15 Carrer Years -- ' + pos +  ' -- CarAV and First4AV difference (media): ' + str(round(ten_fifteen_diff_pos,2)) + ' -- ' + \"Atletas: \" + str(len(Carrer_years['11-15'][Carrer_years['11-15']['Pos'] == pos]['CarAV'])))\n",
    "    print('16-20 Carrer Years -- ' + pos +  ' -- CarAV and First4AV difference (media): ' + str(round(fifteen_twenty_diff_pos,2)) + ' -- ' + \"Atletas: \" + str(len(Carrer_years['16-20'][Carrer_years['16-20']['Pos'] == pos]['CarAV'])))\n",
    "    print('\\n')"
   ]
  },
  {
   "cell_type": "code",
   "execution_count": null,
   "metadata": {},
   "outputs": [],
   "source": []
  },
  {
   "cell_type": "raw",
   "metadata": {},
   "source": [
    "df_draft[(df_draft['Position Standard'] == 'DE') & (df_draft['carrer_years'] > 10)][['Player','First4AV','CarAV','carrer_years']]"
   ]
  },
  {
   "cell_type": "raw",
   "metadata": {},
   "source": [
    "df_draft[(df_draft['Position Standard'] == 'DT') & (df_draft['carrer_years'] > 10)]['CarAV'].max()"
   ]
  },
  {
   "cell_type": "raw",
   "metadata": {},
   "source": [
    "df_draft[(df_draft['Position Standard'] == 'DE') & (df_draft['carrer_years'] > 10)]['CarAV'].nlargest(1)"
   ]
  },
  {
   "cell_type": "code",
   "execution_count": 16,
   "metadata": {},
   "outputs": [],
   "source": [
    "#Para cada time temos quantos atletas de cada posição foram draftados.\n",
    "Team_pos = df_draft.groupby(['Tm','Position Standard']).count()['Player_Id']"
   ]
  },
  {
   "cell_type": "code",
   "execution_count": 17,
   "metadata": {},
   "outputs": [
    {
     "data": {
      "text/plain": [
       "Tm   Position Standard\n",
       "ARI  C                     5\n",
       "     DB                   24\n",
       "     DE                   20\n",
       "     DT                   14\n",
       "     FB                    2\n",
       "     G                     9\n",
       "     K                     1\n",
       "     LB                   20\n",
       "     QB                    9\n",
       "     RB                   15\n",
       "     T                     9\n",
       "     TE                   13\n",
       "     WR                   17\n",
       "ATL  C                     3\n",
       "     DB                   48\n",
       "     DE                   17\n",
       "     DT                   16\n",
       "     FB                    2\n",
       "     G                    17\n",
       "     K                     1\n",
       "     LB                   30\n",
       "     P                     2\n",
       "     QB                    9\n",
       "     RB                   26\n",
       "     T                    14\n",
       "     TE                   10\n",
       "     WR                   28\n",
       "BAL  C                     4\n",
       "     DB                   25\n",
       "     DE                   11\n",
       "                          ..\n",
       "TAM  RB                   29\n",
       "     T                    13\n",
       "     TE                   12\n",
       "     WR                   26\n",
       "TEN  C                     6\n",
       "     DB                   35\n",
       "     DE                   15\n",
       "     DT                   15\n",
       "     FB                    2\n",
       "     G                     7\n",
       "     LB                   22\n",
       "     QB                    5\n",
       "     RB                   13\n",
       "     T                    10\n",
       "     TE                    7\n",
       "     WR                   22\n",
       "WAS  C                     6\n",
       "     DB                   42\n",
       "     DE                   14\n",
       "     DT                   10\n",
       "     FB                    2\n",
       "     G                    15\n",
       "     K                     3\n",
       "     LB                   23\n",
       "     P                     1\n",
       "     QB                   13\n",
       "     RB                   18\n",
       "     T                    14\n",
       "     TE                   14\n",
       "     WR                   24\n",
       "Name: Player_Id, Length: 474, dtype: int64"
      ]
     },
     "execution_count": 17,
     "metadata": {},
     "output_type": "execute_result"
    }
   ],
   "source": [
    "Team_pos"
   ]
  },
  {
   "cell_type": "code",
   "execution_count": null,
   "metadata": {},
   "outputs": [],
   "source": []
  }
 ],
 "metadata": {
  "kernelspec": {
   "display_name": "Python 3",
   "language": "python",
   "name": "python3"
  },
  "language_info": {
   "codemirror_mode": {
    "name": "ipython",
    "version": 3
   },
   "file_extension": ".py",
   "mimetype": "text/x-python",
   "name": "python",
   "nbconvert_exporter": "python",
   "pygments_lexer": "ipython3",
   "version": "3.6.5"
  }
 },
 "nbformat": 4,
 "nbformat_minor": 2
}
